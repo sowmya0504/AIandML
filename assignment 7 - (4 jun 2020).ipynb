{
 "cells": [
  {
   "cell_type": "code",
   "execution_count": 6,
   "metadata": {},
   "outputs": [
    {
     "name": "stdout",
     "output_type": "stream",
     "text": [
      "Data Science With Python,Advanced Programming,AI and ML,Full Stack Web Development\n",
      "tnempoleveD beW kcatS lluF,LM dna IA,gnimmargorP decnavdA,nohtyP htiW ecneicS ataD\n"
     ]
    }
   ],
   "source": [
    "f = open(\"file1.txt\", \"w\")\n",
    "f.write(\"Data Science With Python,Advanced Programming,AI and ML,Full Stack Web Development\")\n",
    "f.close()\n",
    "\n",
    "f = open(\"file1.txt\",\"r\")\n",
    "data = f.read()\n",
    "print(data)\n",
    "f.close()\n",
    "\n",
    "f = open(\"file2.txt\",\"w\")\n",
    "f.write(data[::-1])\n",
    "print(data[::-1])\n",
    "f.close()"
   ]
  },
  {
   "cell_type": "code",
   "execution_count": 2,
   "metadata": {},
   "outputs": [
    {
     "name": "stdout",
     "output_type": "stream",
     "text": [
      "Contents of file in order:\n",
      "1. Data Science\n",
      "2. Advanced Programming\n",
      "3. AI and ML\n",
      "4. Full Stack Web Development\n",
      "5. Python Programming\n",
      "6. Summer Internship\n"
     ]
    }
   ],
   "source": [
    "L = [\"Data Science\\n\", \"Advanced Programming\\n\", \"AI and ML\\n\",\"Full Stack Web Development\\n\",\"Python Programming\\n\",\"Summer Internship\\n\"]\n",
    "\n",
    "f1 = open(\"myfile.txt\", \"w\") \n",
    "f1.writelines(L) \n",
    "f1.close()\n",
    "\n",
    "f1 = open(\"myfile.txt\", \"r\") \n",
    "count = 0\n",
    "\n",
    "print(\"Contents of file in order:\") \n",
    "for line in f1: \n",
    "    count += 1\n",
    "    print(\"{}. {}\".format(count, line.strip()))\n",
    "    \n",
    "f1.close()"
   ]
  },
  {
   "cell_type": "code",
   "execution_count": 34,
   "metadata": {},
   "outputs": [
    {
     "name": "stdout",
     "output_type": "stream",
     "text": [
      "Enter string of duplicates or not:  12345225\n",
      "True\n",
      "['1', '2', '3', '4', '5']\n"
     ]
    }
   ],
   "source": [
    "#[deDuplicate] Avoiding Duplicates\n",
    "#true->contains duplicates\n",
    "#false->no duplicates\n",
    "def Remove(list1): \n",
    "    final_list = [] \n",
    "    for num in list1: \n",
    "        if num not in final_list: \n",
    "            final_list.append(num) \n",
    "    return final_list \n",
    "      \n",
    "\n",
    "def Duplicates(list1):\n",
    "    if len(list1) == len(set(list1)):\n",
    "        return False\n",
    "    else:\n",
    "        return True\n",
    "st=(input(\"Enter string of duplicates or not:  \"))\n",
    "list1=list(st)    \n",
    "result=Duplicates(list1)\n",
    "print(result)\n",
    "print(Remove(list1))"
   ]
  },
  {
   "cell_type": "code",
   "execution_count": 37,
   "metadata": {},
   "outputs": [
    {
     "name": "stdout",
     "output_type": "stream",
     "text": [
      "1.3333333333333333\n",
      "0.4444444444444444\n",
      "0.16666666666666663\n"
     ]
    }
   ],
   "source": [
    "import fraction as fr\n",
    "print(fr.add_fraction(2/3,4/6))\n",
    "print(fr.mul_fraction(2/3,4/6))\n",
    "print(fr.sub_fraction(2/3,1/2))"
   ]
  },
  {
   "cell_type": "code",
   "execution_count": 38,
   "metadata": {},
   "outputs": [
    {
     "name": "stdout",
     "output_type": "stream",
     "text": [
      "True\n"
     ]
    }
   ],
   "source": [
    "def ispermutation(a,b):\n",
    "    if len(a) != len(b):\n",
    "        return False\n",
    "    else:\n",
    "        return True\n",
    "    n = len(a)\n",
    "    count = 0\n",
    "    for i in range(n):\n",
    "        for j in range(n):\n",
    "            if b[j] == a[i]:\n",
    "                count += 1\n",
    "    return count == n\n",
    "\n",
    "def result():\n",
    "    list1 = [1,2,3,4]\n",
    "    list2 = [3,2,4,1]\n",
    "    print(ispermutation(list1,list2))\n",
    "result()"
   ]
  },
  {
   "cell_type": "code",
   "execution_count": null,
   "metadata": {},
   "outputs": [],
   "source": []
  }
 ],
 "metadata": {
  "kernelspec": {
   "display_name": "Python 3",
   "language": "python",
   "name": "python3"
  },
  "language_info": {
   "codemirror_mode": {
    "name": "ipython",
    "version": 3
   },
   "file_extension": ".py",
   "mimetype": "text/x-python",
   "name": "python",
   "nbconvert_exporter": "python",
   "pygments_lexer": "ipython3",
   "version": "3.7.6"
  }
 },
 "nbformat": 4,
 "nbformat_minor": 4
}
