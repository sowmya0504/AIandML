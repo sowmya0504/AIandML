{
 "cells": [
  {
   "cell_type": "code",
   "execution_count": 8,
   "metadata": {},
   "outputs": [
    {
     "name": "stdout",
     "output_type": "stream",
     "text": [
      "*\n",
      "**\n",
      "***\n",
      "****\n",
      "*****\n"
     ]
    }
   ],
   "source": [
    "#generate the pattern\n",
    "k=1\n",
    "for i in range(0,5):\n",
    "    for j in range (0,k):\n",
    "        print(\"*\", end=\"\")\n",
    "    k =k+1\n",
    "    print()"
   ]
  },
  {
   "cell_type": "code",
   "execution_count": 1,
   "metadata": {},
   "outputs": [
    {
     "name": "stdout",
     "output_type": "stream",
     "text": [
      "Enter 'x' for exit.\n",
      "Enter a number: 5\n",
      "5 * 1 = 5\n",
      "5 * 2 = 10\n",
      "5 * 3 = 15\n",
      "5 * 4 = 20\n",
      "5 * 5 = 25\n",
      "5 * 6 = 30\n",
      "5 * 7 = 35\n",
      "5 * 8 = 40\n",
      "5 * 9 = 45\n",
      "5 * 10 = 50\n"
     ]
    }
   ],
   "source": [
    "#display multiplication table of k.take k value from user\n",
    "print(\"Enter 'x' for exit.\");\n",
    "num = input(\"Enter a number: \");\n",
    "if num == 'x':\n",
    "    exit();\n",
    "else:\n",
    "    number = int(num);\n",
    "    for i in range(1, 11):\n",
    "        print(number, \"*\", i, \"=\", number*i);"
   ]
  },
  {
   "cell_type": "code",
   "execution_count": 2,
   "metadata": {},
   "outputs": [
    {
     "name": "stdout",
     "output_type": "stream",
     "text": [
      "Enter 'x' for exit.\n",
      "Enter value of a: 4\n",
      "Enter value of b: 5\n",
      "Enter value of c: 6\n",
      "The solutions = (-0.625-1.0532687216470449j) and (-0.625+1.0532687216470449j)\n"
     ]
    }
   ],
   "source": [
    "#roots of quadratic equation\n",
    "import cmath;\n",
    "print(\"Enter 'x' for exit.\");\n",
    "num1 = input(\"Enter value of a: \");\n",
    "if num1 == 'x':\n",
    "    exit();\n",
    "else:\n",
    "    num2 = input(\"Enter value of b: \");\n",
    "    num3 = input(\"Enter value of c: \");\n",
    "    number1 = float(num1);\n",
    "    number2 = float(num2);\n",
    "    number3 = float(num3);\n",
    "    d = (number2**2) - (4*number1*number3);\n",
    "    r1 = (-number2-cmath.sqrt(d))/(2*number1);\n",
    "    r2 = (-number2+cmath.sqrt(d))/(2*number1);\n",
    "    print(\"The solutions = {0} and {1}\" .format(r1,r2));"
   ]
  },
  {
   "cell_type": "code",
   "execution_count": 4,
   "metadata": {},
   "outputs": [
    {
     "name": "stdout",
     "output_type": "stream",
     "text": [
      "3\n",
      "The equivalent binary number is 11\n"
     ]
    }
   ],
   "source": [
    "#convert a decimal to binary\n",
    "def dtob(n):\n",
    "    x=bin(n)\n",
    "    x=x[2:]\n",
    "    print(\"The equivalent binary number is\",x)\n",
    "y=int(input())\n",
    "dtob(y)"
   ]
  },
  {
   "cell_type": "code",
   "execution_count": 5,
   "metadata": {},
   "outputs": [
    {
     "name": "stdout",
     "output_type": "stream",
     "text": [
      "How many terms you want? 5\n",
      "Fibonacci sequence:\n",
      "0 , 1, 1 , 2 , 3 , "
     ]
    }
   ],
   "source": [
    "#generate first n numbers of fibonacci numbers.take N value from the user n-int(input)\n",
    "nterms = int(input(\"How many terms you want? \"))    \n",
    "n1 = 0  \n",
    "n2 = 1  \n",
    "count = 2  \n",
    "if nterms <= 0:  \n",
    "   print(\"Plese enter a positive integer\")  \n",
    "elif nterms == 1:  \n",
    "   print(\"Fibonacci sequence:\")  \n",
    "   print(n1)  \n",
    "else:  \n",
    "   print(\"Fibonacci sequence:\")  \n",
    "   print(n1,\",\",n2,end=', ')  \n",
    "   while count < nterms:  \n",
    "       nth = n1 + n2  \n",
    "       print(nth,end=' , ')  \n",
    "       # update values  \n",
    "       n1 = n2  \n",
    "       n2 = nth  \n",
    "       count += 1"
   ]
  },
  {
   "cell_type": "code",
   "execution_count": null,
   "metadata": {},
   "outputs": [],
   "source": []
  }
 ],
 "metadata": {
  "kernelspec": {
   "display_name": "Python 3",
   "language": "python",
   "name": "python3"
  },
  "language_info": {
   "codemirror_mode": {
    "name": "ipython",
    "version": 3
   },
   "file_extension": ".py",
   "mimetype": "text/x-python",
   "name": "python",
   "nbconvert_exporter": "python",
   "pygments_lexer": "ipython3",
   "version": "3.7.6"
  }
 },
 "nbformat": 4,
 "nbformat_minor": 4
}
