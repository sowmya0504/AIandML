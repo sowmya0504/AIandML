{
 "cells": [
  {
   "cell_type": "markdown",
   "metadata": {},
   "source": [
    "### CSE-221710310031-SOWMYA\n",
    "\n",
    "### ASSIGNMENT-6 (2 JUNE 20202)"
   ]
  },
  {
   "cell_type": "code",
   "execution_count": 2,
   "metadata": {},
   "outputs": [
    {
     "name": "stdout",
     "output_type": "stream",
     "text": [
      "['?', '?', '?', '?', '?']\n",
      "lives left: LLLLLLLLL\n",
      "guess a letter or whole word :apple\n",
      "you lost a life!\n",
      "['?', '?', '?', '?', '?']\n",
      "lives left: LLLLLLLL\n",
      "guess a letter or whole word :g\n",
      "you lost a life!\n",
      "['?', '?', '?', '?', '?']\n",
      "lives left: LLLLLLL\n",
      "guess a letter or whole word :f\n",
      "['f', '?', '?', '?', '?']\n",
      "lives left: LLLLLLL\n",
      "guess a letter or whole word :p\n",
      "you lost a life!\n",
      "['f', '?', '?', '?', '?']\n",
      "lives left: LLLLLL\n",
      "guess a letter or whole word :a\n",
      "['f', '?', '?', 'a', '?']\n",
      "lives left: LLLLLL\n",
      "guess a letter or whole word :final\n",
      "you won and secret word is: final\n"
     ]
    }
   ],
   "source": [
    "import random\n",
    "import string\n",
    "lives=9\n",
    "words=['pizza','final','globe','apple','blind','birth','coach','minus','paper','royal']\n",
    "secret_word=random.choice(words)\n",
    "clue=list('?????')\n",
    "lives_symbol='L'\n",
    "guessed_word_correctly=False\n",
    "def update_clue(guessed_letter,secret_word,clue):\n",
    "    index=0\n",
    "    while index<len(secret_word):\n",
    "        if guessed_letter==secret_word[index]:\n",
    "            clue[index]=guessed_letter\n",
    "        index=index+1\n",
    "\n",
    "while lives>0:\n",
    "    print(clue)\n",
    "    print(\"lives left:\",lives_symbol*lives)\n",
    "    guess=input(\"guess a letter or whole word :\")\n",
    "    if guess==secret_word:\n",
    "        guessed_word_correctly=True\n",
    "        break\n",
    "    if guess in secret_word:\n",
    "        update_clue(guess,secret_word,clue)\n",
    "    else:\n",
    "        print(\"you lost a life!\")\n",
    "        lives=lives-1\n",
    "if guessed_word_correctly:\n",
    "    print(\"you won and secret word is:\",secret_word)\n",
    "else:\n",
    "    print(\"you lost and secret word is:\",secret_word)\n",
    "    \n"
   ]
  },
  {
   "cell_type": "code",
   "execution_count": null,
   "metadata": {},
   "outputs": [],
   "source": []
  }
 ],
 "metadata": {
  "kernelspec": {
   "display_name": "Python 3",
   "language": "python",
   "name": "python3"
  },
  "language_info": {
   "codemirror_mode": {
    "name": "ipython",
    "version": 3
   },
   "file_extension": ".py",
   "mimetype": "text/x-python",
   "name": "python",
   "nbconvert_exporter": "python",
   "pygments_lexer": "ipython3",
   "version": "3.7.6"
  }
 },
 "nbformat": 4,
 "nbformat_minor": 4
}
