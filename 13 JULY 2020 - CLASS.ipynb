{
 "cells": [
  {
   "cell_type": "markdown",
   "metadata": {},
   "source": [
    "[OBJECT RECOGNITION](https://docs.google.com/document/d/178ldQxZfUUhWxN4qxz4P3SbdLv4mK6rX3A9lYj9okow/edit#heading=h.az5jm25g9ant)"
   ]
  }
 ],
 "metadata": {
  "kernelspec": {
   "display_name": "Python 3",
   "language": "python",
   "name": "python3"
  },
  "language_info": {
   "codemirror_mode": {
    "name": "ipython",
    "version": 3
   },
   "file_extension": ".py",
   "mimetype": "text/x-python",
   "name": "python",
   "nbconvert_exporter": "python",
   "pygments_lexer": "ipython3",
   "version": "3.7.6"
  }
 },
 "nbformat": 4,
 "nbformat_minor": 4
}
