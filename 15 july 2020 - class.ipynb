{
 "cells": [
  {
   "cell_type": "markdown",
   "metadata": {},
   "source": [
    "[Object Recognition](https://docs.google.com/document/d/178ldQxZfUUhWxN4qxz4P3SbdLv4mK6rX3A9lYj9okow/edit)"
   ]
  },
  {
   "cell_type": "markdown",
   "metadata": {},
   "source": [
    "[ma'am-Copy of weapon_detection_BL.ipynb](https://colab.research.google.com/drive/1zL3rhc_sJKbYzXli7ih7xeabvHVTg4hv?usp=sharing#scrollTo=A_tyvKnBP6qD)"
   ]
  },
  {
   "cell_type": "markdown",
   "metadata": {},
   "source": [
    "[Weapons Detection](https://sci2s.ugr.es/weapons-detection)"
   ]
  },
  {
   "cell_type": "markdown",
   "metadata": {},
   "source": [
    "[Gun detection](https://docs.google.com/document/d/1cCCJAw0R3oP3XljDYqzjOi64zJ6qF8RHNn2CvNa4dwI/edit)"
   ]
  },
  {
   "cell_type": "markdown",
   "metadata": {},
   "source": [
    "[github](https://github.com/tensorflow/models/tree/master/research/object_detection/models)"
   ]
  },
  {
   "cell_type": "markdown",
   "metadata": {},
   "source": [
    "[git large data](https://git-lfs.github.com/)"
   ]
  },
  {
   "cell_type": "markdown",
   "metadata": {},
   "source": [
    "[weapon_detection_BL.ipynb](https://colab.research.google.com/drive/1Xt_1QBGXQyPFT6kC6VHQYNsYUA6IHIPT#scrollTo=vnKt6g0_IgOe)"
   ]
  }
 ],
 "metadata": {
  "kernelspec": {
   "display_name": "Python 3",
   "language": "python",
   "name": "python3"
  },
  "language_info": {
   "codemirror_mode": {
    "name": "ipython",
    "version": 3
   },
   "file_extension": ".py",
   "mimetype": "text/x-python",
   "name": "python",
   "nbconvert_exporter": "python",
   "pygments_lexer": "ipython3",
   "version": "3.7.6"
  }
 },
 "nbformat": 4,
 "nbformat_minor": 4
}
