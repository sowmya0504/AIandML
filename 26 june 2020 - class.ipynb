{
 "cells": [
  {
   "cell_type": "markdown",
   "metadata": {},
   "source": [
    "document : [clickhere](https://docs.google.com/document/d/1HxVOet76LTHuV2hduXOq1W9uD1D_1rBimLlKK4avUAE/edit)"
   ]
  }
 ],
 "metadata": {
  "kernelspec": {
   "display_name": "Python 3",
   "language": "python",
   "name": "python3"
  },
  "language_info": {
   "codemirror_mode": {
    "name": "ipython",
    "version": 3
   },
   "file_extension": ".py",
   "mimetype": "text/x-python",
   "name": "python",
   "nbconvert_exporter": "python",
   "pygments_lexer": "ipython3",
   "version": "3.7.6"
  }
 },
 "nbformat": 4,
 "nbformat_minor": 4
}
