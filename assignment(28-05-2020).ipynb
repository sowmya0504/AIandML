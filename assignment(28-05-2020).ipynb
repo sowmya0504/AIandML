{
 "cells": [
  {
   "cell_type": "code",
   "execution_count": 1,
   "metadata": {},
   "outputs": [
    {
     "name": "stdout",
     "output_type": "stream",
     "text": [
      "Enter any string: sowmya$$\n",
      "Vowels: 2\n",
      "Consonant: 4\n",
      "Special Character: 2\n"
     ]
    }
   ],
   "source": [
    "def countCharacterType(str):  \n",
    "\tvowels = 0\n",
    "\tconsonant = 0\n",
    "\tspecialChar = 0\n",
    "\tdigit = 0\n",
    "\tfor i in range(0, len(str)): \n",
    "\t\t\n",
    "\t\tch = str[i] \n",
    "\t\tif ( (ch >= 'a' and ch <= 'z') or\n",
    "\t\t\t(ch >= 'A' and ch <= 'Z') ): \n",
    "\t\t\tch = ch.lower() \n",
    "\t\t\tif (ch == 'a' or ch == 'e' or ch == 'i'\n",
    "\t\t\t\t\t\tor ch == 'o' or ch == 'u'): \n",
    "\t\t\t\tvowels += 1\n",
    "\t\t\telse: \n",
    "\t\t\t\tconsonant += 1\n",
    "\t\t\n",
    "\t\telif (ch >= '0' and ch <= '9'): \n",
    "\t\t\tdigit += 1\n",
    "\t\telse: \n",
    "\t\t\tspecialChar += 1\n",
    "\t\n",
    "\tprint(\"Vowels:\", vowels) \n",
    "\tprint(\"Consonant:\", consonant) \n",
    "\t\n",
    "\tprint(\"Special Character:\", specialChar) \n",
    "str = input(\"Enter any string: \")\n",
    "countCharacterType(str)"
   ]
  },
  {
   "cell_type": "code",
   "execution_count": 2,
   "metadata": {},
   "outputs": [
    {
     "name": "stdout",
     "output_type": "stream",
     "text": [
      "Enter a string:abbaaccbbaaa\n",
      "Pairs: 2\n"
     ]
    }
   ],
   "source": [
    "a=input('Enter a string:').lower()\n",
    "p=0\n",
    "c=0\n",
    "for i in a:\n",
    "    if i=='a' and c==0:\n",
    "        c=1\n",
    "    elif i=='a' and c==1:\n",
    "        c=0\n",
    "        p=p+1\n",
    "    else:\n",
    "        c=0\n",
    "print(\"Pairs:\",p)"
   ]
  },
  {
   "cell_type": "code",
   "execution_count": 4,
   "metadata": {},
   "outputs": [
    {
     "name": "stdout",
     "output_type": "stream",
     "text": [
      "enter the start limit1\n",
      "enter the end limit10\n",
      "9\n"
     ]
    }
   ],
   "source": [
    "def isPalindrome(n: int) -> bool: \n",
    "    rev = 0\n",
    "    i = n \n",
    "    while i > 0: \n",
    "        rev = rev * 10 + i % 10\n",
    "        i //= 10 \n",
    "    return (n == rev) \n",
    "\n",
    "def countPal(minn: int, maxx: int) -> None: \n",
    "    c=0\n",
    "    for i in range(minn, maxx + 1): \n",
    "        if isPalindrome(i): \n",
    "            c+=1 \n",
    "    print(c)\n",
    "x=int(input(\"enter the start limit\"))\n",
    "y=int(input(\"enter the end limit\"))\n",
    "countPal(x,y)"
   ]
  },
  {
   "cell_type": "code",
   "execution_count": 14,
   "metadata": {},
   "outputs": [
    {
     "name": "stdout",
     "output_type": "stream",
     "text": [
      "enter the brackets sequence((((()()()))))()\n",
      "8\n"
     ]
    }
   ],
   "source": [
    "s1=input(\"enter the brackets sequence\")\n",
    "ope=0\n",
    "clo=0\n",
    "for i in range (0,len(s1)):\n",
    "    if s1[i]==\"(\":\n",
    "        ope = ope+1\n",
    "    else:\n",
    "        clo = clo+1\n",
    "if(ope==clo):\n",
    "    print(ope)"
   ]
  },
  {
   "cell_type": "code",
   "execution_count": 5,
   "metadata": {},
   "outputs": [
    {
     "name": "stdout",
     "output_type": "stream",
     "text": [
      "Enter number:127\n",
      "848\n"
     ]
    }
   ],
   "source": [
    "n=int(input(\"Enter number:\"))\n",
    "temp=n\n",
    "rev=0\n",
    "while(n>0):\n",
    "    dig=n%10\n",
    "    rev=rev*10+dig\n",
    "    n=n//10\n",
    "if(temp==rev):\n",
    "    print(temp)\n",
    "else:\n",
    "    print(temp+rev)"
   ]
  },
  {
   "cell_type": "code",
   "execution_count": 5,
   "metadata": {},
   "outputs": [
    {
     "name": "stdout",
     "output_type": "stream",
     "text": [
      "puboif\n"
     ]
    }
   ],
   "source": [
    "str = \"orange\"\n",
    "s=\"orange\"\n",
    "s=s.replace(s[0],\"p\")\n",
    "s=s.replace(s[1],\"u\")\n",
    "s=s.replace(s[2],\"b\")\n",
    "s=s.replace(s[3],\"o\")\n",
    "s=s.replace(s[4],\"i\")\n",
    "s=s.replace(s[5],\"f\")\n",
    "print(s)"
   ]
  },
  {
   "cell_type": "code",
   "execution_count": 12,
   "metadata": {},
   "outputs": [
    {
     "name": "stdout",
     "output_type": "stream",
     "text": [
      "enter a stringappli123cation456\n",
      "21\n"
     ]
    }
   ],
   "source": [
    "def sum_digits_string(str1):\n",
    "    sum_digit = 0\n",
    "    for x in str1:\n",
    "        if x.isdigit() == True:\n",
    "            z = int(x)\n",
    "            sum_digit = sum_digit + z\n",
    "\n",
    "    return sum_digit\n",
    "     \n",
    "print(sum_digits_string(input(\"enter a string\")))"
   ]
  },
  {
   "cell_type": "code",
   "execution_count": 11,
   "metadata": {},
   "outputs": [
    {
     "name": "stdout",
     "output_type": "stream",
     "text": [
      "Enter Score: 0.85\n",
      "B\n"
     ]
    }
   ],
   "source": [
    "score = input(\"Enter Score: \")\n",
    "s =  float(score)\n",
    "x = 'Error'\n",
    "if s >= 0.9 and s<=1.0 :\n",
    "\tx = 'A'\n",
    "elif s >=0.8 and s<=0.9 :\n",
    "\tx='B'\n",
    "elif s >=0.7 and s<=0.8 :\n",
    "\tx='C'\n",
    "elif s >= 0.6 and s<=0.7 :\n",
    "\tx='D'\n",
    "elif s < .6 and s>=0:\n",
    "\tx ='F'\n",
    "else:\n",
    "\tx =\"Out of Range\"\n",
    "print (x)"
   ]
  },
  {
   "cell_type": "code",
   "execution_count": 8,
   "metadata": {},
   "outputs": [
    {
     "name": "stdout",
     "output_type": "stream",
     "text": [
      "fizzbuzz\n",
      "1\n",
      "2\n",
      "fizz\n",
      "4\n",
      "buzz\n",
      "fizz\n",
      "7\n",
      "8\n",
      "fizz\n",
      "buzz\n",
      "11\n",
      "fizz\n",
      "13\n",
      "14\n",
      "fizzbuzz\n",
      "16\n",
      "17\n",
      "fizz\n",
      "19\n",
      "buzz\n",
      "fizz\n",
      "22\n",
      "23\n",
      "fizz\n",
      "buzz\n",
      "26\n",
      "fizz\n",
      "28\n",
      "29\n",
      "fizzbuzz\n",
      "31\n",
      "32\n",
      "fizz\n",
      "34\n",
      "buzz\n",
      "fizz\n",
      "37\n",
      "38\n",
      "fizz\n",
      "buzz\n",
      "41\n",
      "fizz\n",
      "43\n",
      "44\n",
      "fizzbuzz\n",
      "46\n",
      "47\n",
      "fizz\n",
      "49\n",
      "buzz\n"
     ]
    }
   ],
   "source": [
    "for fizzbuzz in range(51):\n",
    "    if fizzbuzz % 3 == 0 and fizzbuzz % 5 == 0:\n",
    "        print(\"fizzbuzz\")\n",
    "        continue\n",
    "    elif fizzbuzz % 3 == 0:\n",
    "        print(\"fizz\")\n",
    "        continue\n",
    "    elif fizzbuzz % 5 == 0:\n",
    "        print(\"buzz\")\n",
    "        continue\n",
    "    print(fizzbuzz)"
   ]
  },
  {
   "cell_type": "code",
   "execution_count": 10,
   "metadata": {},
   "outputs": [
    {
     "name": "stdout",
     "output_type": "stream",
     "text": [
      "Input the first number26\n",
      "Input the second number15\n",
      "Input the third number29\n",
      "Median of the above three numbers -\n",
      "26\n"
     ]
    }
   ],
   "source": [
    "x = input(\"Input the first number\")\n",
    "y = input(\"Input the second number\")\n",
    "z = input(\"Input the third number\")\n",
    "print(\"Median of the above three numbers -\")\n",
    "\n",
    "if y < x and x < z:\n",
    "    print(x)\n",
    "elif z < x and x < y:\n",
    "    print(x)\n",
    "    \n",
    "elif z < y and y < x:\n",
    "    print(y)\n",
    "elif x < y and y < z:\n",
    "    print(y)\n",
    "    \n",
    "elif y < z and z < x:\n",
    "    print(z)    \n",
    "elif x < z and z < y:\n",
    "    print(z)"
   ]
  },
  {
   "cell_type": "code",
   "execution_count": null,
   "metadata": {},
   "outputs": [],
   "source": []
  }
 ],
 "metadata": {
  "kernelspec": {
   "display_name": "Python 3",
   "language": "python",
   "name": "python3"
  },
  "language_info": {
   "codemirror_mode": {
    "name": "ipython",
    "version": 3
   },
   "file_extension": ".py",
   "mimetype": "text/x-python",
   "name": "python",
   "nbconvert_exporter": "python",
   "pygments_lexer": "ipython3",
   "version": "3.7.6"
  }
 },
 "nbformat": 4,
 "nbformat_minor": 4
}
