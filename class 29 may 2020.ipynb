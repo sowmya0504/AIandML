{
 "cells": [
  {
   "cell_type": "code",
   "execution_count": 1,
   "metadata": {},
   "outputs": [
    {
     "name": "stdout",
     "output_type": "stream",
     "text": [
      "1\n",
      "2\n",
      "3\n",
      "4\n"
     ]
    }
   ],
   "source": [
    "#loop control statements:break,continue\n",
    "for i in range(1,11):\n",
    "    if i % 5 == 0:\n",
    "        break\n",
    "    else:\n",
    "        print(i)"
   ]
  },
  {
   "cell_type": "code",
   "execution_count": 2,
   "metadata": {},
   "outputs": [
    {
     "name": "stdout",
     "output_type": "stream",
     "text": [
      "1\n",
      "2\n",
      "3\n",
      "4\n",
      "6\n",
      "7\n",
      "8\n",
      "9\n"
     ]
    }
   ],
   "source": [
    "for i in range(1,11):\n",
    "    if i % 5 == 0:\n",
    "        continue\n",
    "    else:\n",
    "        print(i)"
   ]
  },
  {
   "cell_type": "code",
   "execution_count": 16,
   "metadata": {},
   "outputs": [
    {
     "name": "stdout",
     "output_type": "stream",
     "text": [
      "enter your nameasddd\n",
      "enter your namepython\n",
      "enter your password:dfgh\n",
      "enter your namepython\n",
      "enter your password:abc123\n",
      "login success!!\n"
     ]
    }
   ],
   "source": [
    "#write a program to validate username and password given by the user.\n",
    "#If the user gives wrong credentials it should ask for username \n",
    "#and password again again until the user gives correct details.\n",
    "#username:python \n",
    "#password:abc123\n",
    "while True:\n",
    "    username = input(\"enter your name\")\n",
    "    if username == \"python\":\n",
    "        pwd = input(\"enter your password:\")\n",
    "        if pwd == \"abc123\":\n",
    "            print(\"login success!!\")\n",
    "            break\n",
    "    else:\n",
    "        continue\n",
    "    \n",
    "       \n",
    "\n"
   ]
  },
  {
   "cell_type": "code",
   "execution_count": 17,
   "metadata": {},
   "outputs": [],
   "source": [
    "#pass -->empty block\n",
    "if 12 < 34:\n",
    "    pass\n",
    "else:\n",
    "    print(\"else\")"
   ]
  },
  {
   "cell_type": "markdown",
   "metadata": {},
   "source": [
    "### Function:\n",
    "block of statements\n",
    "1. predefined (which are already)\n",
    "   - len(),print(),input(),min(),max()\n",
    "2. user-defined (custom function)"
   ]
  },
  {
   "cell_type": "markdown",
   "metadata": {},
   "source": [
    "```def function_name(parameter list):\n",
    "        statements\n",
    "        return```"
   ]
  },
  {
   "cell_type": "code",
   "execution_count": 21,
   "metadata": {},
   "outputs": [
    {
     "name": "stdout",
     "output_type": "stream",
     "text": [
      "Hello sowmya\n"
     ]
    }
   ],
   "source": [
    "def name(username): #function definition\n",
    "    print(\"Hello\",username)\n",
    "    \n",
    "name(\"sowmya\")#function callng"
   ]
  },
  {
   "cell_type": "code",
   "execution_count": 23,
   "metadata": {},
   "outputs": [
    {
     "name": "stdout",
     "output_type": "stream",
     "text": [
      "(30, -10, 200, 0.5)\n",
      "(38, -2, 360, 0.9)\n",
      "(40, -6, 391, 0.7391304347826086)\n"
     ]
    }
   ],
   "source": [
    "def addition(a,b):\n",
    "    return a+b,a-b,a*b,a/b\n",
    "\n",
    "print(addition(10,20))\n",
    "print(addition(18,20))\n",
    "print(addition(17,23))"
   ]
  },
  {
   "cell_type": "code",
   "execution_count": 27,
   "metadata": {},
   "outputs": [
    {
     "name": "stdout",
     "output_type": "stream",
     "text": [
      "-10 200\n"
     ]
    }
   ],
   "source": [
    "#multiple return values\n",
    "def arithmetic(a,b):\n",
    "    return a+b,a-b,a*b,a/b\n",
    "#unpacking\n",
    "add,sub,mul,div = arithmetic(10,20)\n",
    "print(sub,mul)"
   ]
  },
  {
   "cell_type": "markdown",
   "metadata": {},
   "source": [
    "### different types of arguments\n",
    "1. required positional argument\n",
    "2. default aurgument\n",
    "3. keyword argument\n",
    "4. variable length argument"
   ]
  },
  {
   "cell_type": "code",
   "execution_count": 29,
   "metadata": {},
   "outputs": [
    {
     "ename": "TypeError",
     "evalue": "add() takes 2 positional arguments but 3 were given",
     "output_type": "error",
     "traceback": [
      "\u001b[1;31m---------------------------------------------------------------------------\u001b[0m",
      "\u001b[1;31mTypeError\u001b[0m                                 Traceback (most recent call last)",
      "\u001b[1;32m<ipython-input-29-1fb5197c481c>\u001b[0m in \u001b[0;36m<module>\u001b[1;34m\u001b[0m\n\u001b[0;32m      1\u001b[0m \u001b[1;32mdef\u001b[0m \u001b[0madd\u001b[0m\u001b[1;33m(\u001b[0m\u001b[0ma\u001b[0m\u001b[1;33m,\u001b[0m\u001b[0mb\u001b[0m\u001b[1;33m)\u001b[0m\u001b[1;33m:\u001b[0m\u001b[1;33m\u001b[0m\u001b[1;33m\u001b[0m\u001b[0m\n\u001b[0;32m      2\u001b[0m     \u001b[1;32mreturn\u001b[0m\u001b[1;33m(\u001b[0m\u001b[0ma\u001b[0m\u001b[1;33m+\u001b[0m\u001b[0mb\u001b[0m\u001b[1;33m)\u001b[0m\u001b[1;33m\u001b[0m\u001b[1;33m\u001b[0m\u001b[0m\n\u001b[1;32m----> 3\u001b[1;33m \u001b[0madd\u001b[0m\u001b[1;33m(\u001b[0m\u001b[1;36m10\u001b[0m\u001b[1;33m,\u001b[0m\u001b[1;36m20\u001b[0m\u001b[1;33m,\u001b[0m\u001b[1;36m30\u001b[0m\u001b[1;33m)\u001b[0m\u001b[1;33m\u001b[0m\u001b[1;33m\u001b[0m\u001b[0m\n\u001b[0m",
      "\u001b[1;31mTypeError\u001b[0m: add() takes 2 positional arguments but 3 were given"
     ]
    }
   ],
   "source": [
    "def add(a,b):\n",
    "    return(a+b)\n",
    "add(10) #error\n",
    "add(10,20,30) #error"
   ]
  },
  {
   "cell_type": "code",
   "execution_count": 33,
   "metadata": {},
   "outputs": [
    {
     "data": {
      "text/plain": [
       "110"
      ]
     },
     "execution_count": 33,
     "metadata": {},
     "output_type": "execute_result"
    }
   ],
   "source": [
    "#default argument\n",
    "def add(a,b=100): #defaut arguments should be at end of aurgument list\n",
    "    return a+b\n",
    "add(10)"
   ]
  },
  {
   "cell_type": "code",
   "execution_count": 37,
   "metadata": {},
   "outputs": [
    {
     "name": "stdout",
     "output_type": "stream",
     "text": [
      "110\n",
      "25\n",
      "55\n"
     ]
    }
   ],
   "source": [
    "def add(a,b=100):\n",
    "    return a+b\n",
    "print(add(10))\n",
    "print(add(10,45)) #actual value is taken then default value"
   ]
  },
  {
   "cell_type": "code",
   "execution_count": 38,
   "metadata": {},
   "outputs": [
    {
     "name": "stdout",
     "output_type": "stream",
     "text": [
      "a value: 10\n",
      "b value: 20\n"
     ]
    },
    {
     "data": {
      "text/plain": [
       "30"
      ]
     },
     "execution_count": 38,
     "metadata": {},
     "output_type": "execute_result"
    }
   ],
   "source": [
    "#keyword arguments\n",
    "def add(a,b):\n",
    "    print(\"a value:\",a)\n",
    "    print(\"b value:\",b)\n",
    "    return (a+b)\n",
    "add(10,20)"
   ]
  },
  {
   "cell_type": "code",
   "execution_count": 39,
   "metadata": {},
   "outputs": [
    {
     "name": "stdout",
     "output_type": "stream",
     "text": [
      "a value: 20\n",
      "b value: 10\n"
     ]
    },
    {
     "data": {
      "text/plain": [
       "30"
      ]
     },
     "execution_count": 39,
     "metadata": {},
     "output_type": "execute_result"
    }
   ],
   "source": [
    "def add(a,b):\n",
    "    print(\"a value:\",a)\n",
    "    print(\"b value:\",b)\n",
    "    return (a+b)\n",
    "add(b=10,a=20)  #keyword arguments"
   ]
  },
  {
   "cell_type": "code",
   "execution_count": 40,
   "metadata": {},
   "outputs": [
    {
     "name": "stdout",
     "output_type": "stream",
     "text": [
      "enter a value3\n",
      "enter b value4\n",
      "a value: 3\n",
      "b value: 4\n"
     ]
    },
    {
     "data": {
      "text/plain": [
       "7"
      ]
     },
     "execution_count": 40,
     "metadata": {},
     "output_type": "execute_result"
    }
   ],
   "source": [
    "a = int(input(\"enter a value\"))\n",
    "b = int(input(\"enter b value\"))\n",
    "add(a,b)"
   ]
  },
  {
   "cell_type": "code",
   "execution_count": 42,
   "metadata": {},
   "outputs": [
    {
     "name": "stdout",
     "output_type": "stream",
     "text": [
      "30\n",
      "60\n",
      "100\n"
     ]
    }
   ],
   "source": [
    "#variable length arguments\n",
    "#(120,230,34,450,460) -->Tuple\n",
    "def add(*a):\n",
    "    return sum(a)\n",
    "\n",
    "print(add(10,20))\n",
    "print(add(10,20,30))\n",
    "print(add(10,20,30,40))\n"
   ]
  },
  {
   "cell_type": "code",
   "execution_count": 43,
   "metadata": {},
   "outputs": [
    {
     "name": "stdout",
     "output_type": "stream",
     "text": [
      "200\n",
      "6000\n",
      "240000\n"
     ]
    }
   ],
   "source": [
    "def add(*a):    #multiplication\n",
    "    m = 1\n",
    "    for i in a:\n",
    "        m = m*i\n",
    "    return m\n",
    "\n",
    "print(add(10,20))\n",
    "print(add(10,20,30))\n",
    "print(add(10,20,30,40))\n"
   ]
  },
  {
   "cell_type": "code",
   "execution_count": 47,
   "metadata": {},
   "outputs": [
    {
     "name": "stdout",
     "output_type": "stream",
     "text": [
      "100\n",
      "125\n"
     ]
    }
   ],
   "source": [
    "#nested function : square,cube\n",
    "def square(a):\n",
    "    return a*a\n",
    "def cube(x):\n",
    "    return square(x)*x\n",
    "print(square(10))\n",
    "print(cube(5))"
   ]
  },
  {
   "cell_type": "markdown",
   "metadata": {},
   "source": [
    "### recursive function:\n",
    "1. factorail of number\n",
    "2. fibonacci series"
   ]
  },
  {
   "cell_type": "markdown",
   "metadata": {},
   "source": [
    "### Data structures:\n",
    "1. list :\n",
    "     - [] elements seperated by ,\n",
    "     - indexed\n",
    "     - ordered\n",
    "     - duplicate values\n",
    "     - mutable\n",
    "     - any type of values"
   ]
  },
  {
   "cell_type": "code",
   "execution_count": 50,
   "metadata": {},
   "outputs": [
    {
     "name": "stdout",
     "output_type": "stream",
     "text": [
      "<class 'list'>\n"
     ]
    }
   ],
   "source": [
    "list1 = [12,23.45,True,\"abc\",12]\n",
    "print(type(list1))"
   ]
  },
  {
   "cell_type": "code",
   "execution_count": 53,
   "metadata": {},
   "outputs": [
    {
     "name": "stdout",
     "output_type": "stream",
     "text": [
      "[1, 2, 3, 10, 20, 30]\n",
      "[1, 2, 3, 1, 2, 3, 1, 2, 3]\n",
      "2\n",
      "[2, 3]\n",
      "True\n"
     ]
    }
   ],
   "source": [
    "#operators supported by list : +,*,[],[:],in,not on\n",
    "list1=[1,2,3]\n",
    "list2=[10,20,30]\n",
    "print(list1+list2) #concatination\n",
    "print(list1*3) #repetition\n",
    "print(list1[1])\n",
    "print(list1[1:3]) #[1,2]\n",
    "print(2 in list1)#true\n",
    "print(200 in list1)#false"
   ]
  },
  {
   "cell_type": "code",
   "execution_count": 55,
   "metadata": {},
   "outputs": [
    {
     "data": {
      "text/plain": [
       "'t'"
      ]
     },
     "execution_count": 55,
     "metadata": {},
     "output_type": "execute_result"
    }
   ],
   "source": [
    "list1 = [1,2,3,\"python\"]\n",
    "list1[3][2] #to get character t from string python"
   ]
  },
  {
   "cell_type": "code",
   "execution_count": 56,
   "metadata": {},
   "outputs": [
    {
     "name": "stdout",
     "output_type": "stream",
     "text": [
      "4\n"
     ]
    }
   ],
   "source": [
    "#built-in functions:len(),min(),max(),list()\n",
    "list1 = [1,2,3,\"python\"]\n",
    "print(len(list1))\n"
   ]
  },
  {
   "cell_type": "code",
   "execution_count": 58,
   "metadata": {},
   "outputs": [
    {
     "name": "stdout",
     "output_type": "stream",
     "text": [
      "4\n",
      "1\n",
      "4\n"
     ]
    }
   ],
   "source": [
    "list1 = [1,2,3,4]\n",
    "print(len(list1))\n",
    "print(min(list1))\n",
    "print(max(list1))"
   ]
  },
  {
   "cell_type": "code",
   "execution_count": 62,
   "metadata": {},
   "outputs": [
    {
     "name": "stdout",
     "output_type": "stream",
     "text": [
      "4\n",
      "1\n",
      "40\n",
      "['p', 'y', 't', 'h', 'o', 'n']\n",
      "[1, 2, 3, 100]\n"
     ]
    }
   ],
   "source": [
    "list1 = [1,2,3,40]\n",
    "s1 = \"python\"\n",
    "print(len(list1))\n",
    "print(min(list1))\n",
    "print(max(list1))\n",
    "list2 = list(s1)\n",
    "print(list2)\n",
    "list1[3] = 100 #40 replaced with 100\n",
    "print(list1)"
   ]
  },
  {
   "cell_type": "code",
   "execution_count": null,
   "metadata": {},
   "outputs": [],
   "source": []
  }
 ],
 "metadata": {
  "kernelspec": {
   "display_name": "Python 3",
   "language": "python",
   "name": "python3"
  },
  "language_info": {
   "codemirror_mode": {
    "name": "ipython",
    "version": 3
   },
   "file_extension": ".py",
   "mimetype": "text/x-python",
   "name": "python",
   "nbconvert_exporter": "python",
   "pygments_lexer": "ipython3",
   "version": "3.7.6"
  }
 },
 "nbformat": 4,
 "nbformat_minor": 4
}
