{
  "nbformat": 4,
  "nbformat_minor": 0,
  "metadata": {
    "colab": {
      "name": "16 JULY 2020V-CLASS.ipynb",
      "provenance": []
    },
    "kernelspec": {
      "name": "python3",
      "display_name": "Python 3"
    }
  },
  "cells": [
    {
      "cell_type": "markdown",
      "metadata": {
        "id": "SmRnzsOraCso",
        "colab_type": "text"
      },
      "source": [
        "[LSTM](https://docs.google.com/document/d/1UuoREjE_CS5jrQk-yQY9P4lQuqyOqV6RhrdshJivROw/edit?usp=sharing)"
      ]
    },
    {
      "cell_type": "markdown",
      "metadata": {
        "id": "TO4BxnSvaDjD",
        "colab_type": "text"
      },
      "source": [
        "[SESSION DOCUMENT](https://docs.google.com/document/d/1tw7rl4ir-hm1M3wImlH_zlcQfajU8XpWJGh7obsp7rU/edit?usp=sharing)"
      ]
    },
    {
      "cell_type": "markdown",
      "metadata": {
        "id": "suEVBSToaDpT",
        "colab_type": "text"
      },
      "source": [
        "[COLAB LINK-MAM](https://colab.research.google.com/drive/1MqEFKXBaEd2EhArdTVEHeP7qwrnNm7tH?usp=sharing#scrollTo=i6-7waFISkb5)"
      ]
    },
    {
      "cell_type": "markdown",
      "metadata": {
        "id": "Ui85hiUkaDw8",
        "colab_type": "text"
      },
      "source": [
        "[MY COLAB LINK](https://colab.research.google.com/drive/17bocOWUy-dGazBOPzAHx8eAfXExKe03u#scrollTo=Ui85hiUkaDw8)"
      ]
    },
    {
      "cell_type": "code",
      "metadata": {
        "id": "wXS4xRng7ZXx",
        "colab_type": "code",
        "colab": {
          "base_uri": "https://localhost:8080/",
          "height": 138
        },
        "outputId": "5d6d2400-ad5e-46f7-939e-814725e5c2c9"
      },
      "source": [
        "from google.colab import drive\n",
        "drive.mount('/gdrive')\n",
        "%cd /gdrive"
      ],
      "execution_count": 6,
      "outputs": [
        {
          "output_type": "stream",
          "text": [
            "Go to this URL in a browser: https://accounts.google.com/o/oauth2/auth?client_id=947318989803-6bn6qk8qdgf4n4g3pfee6491hc0brc4i.apps.googleusercontent.com&redirect_uri=urn%3aietf%3awg%3aoauth%3a2.0%3aoob&response_type=code&scope=email%20https%3a%2f%2fwww.googleapis.com%2fauth%2fdocs.test%20https%3a%2f%2fwww.googleapis.com%2fauth%2fdrive%20https%3a%2f%2fwww.googleapis.com%2fauth%2fdrive.photos.readonly%20https%3a%2f%2fwww.googleapis.com%2fauth%2fpeopleapi.readonly\n",
            "\n",
            "Enter your authorization code:\n",
            "··········\n",
            "Mounted at /gdrive\n",
            "/gdrive\n"
          ],
          "name": "stdout"
        }
      ]
    },
    {
      "cell_type": "code",
      "metadata": {
        "id": "0zv41pAp7-vS",
        "colab_type": "code",
        "colab": {
          "base_uri": "https://localhost:8080/",
          "height": 101
        },
        "outputId": "23a0decb-061a-417a-97e2-e18bc4b6c94f"
      },
      "source": [
        "!ls 'My Drive/summer internship'"
      ],
      "execution_count": 7,
      "outputs": [
        {
          "output_type": "stream",
          "text": [
            "'10 july 2020 class.ipynb'\t\t     all_stocks_5yr.csv\n",
            "'11 july 2020 class'\t\t\t    'Assignment-38(10-july-2020).ipynb'\n",
            "' 15 july 2020(weapon_detection_BL).ipynb'  'Assignment-39(11-07-20).ipynb'\n",
            " 20-06-2020.ipynb\t\t\t     titanic.csv\n",
            "'9 july 2020.ipynb'\t\t\t     Untitled0.ipynb\n"
          ],
          "name": "stdout"
        }
      ]
    },
    {
      "cell_type": "code",
      "metadata": {
        "id": "sgiRydfk8KzO",
        "colab_type": "code",
        "colab": {
          "base_uri": "https://localhost:8080/",
          "height": 34
        },
        "outputId": "aefa65f5-a71b-41f9-ab04-cac63012cb42"
      },
      "source": [
        "#all_stocks_5yr.csv\n",
        "import pandas as pd\n",
        "data = pd.read_csv('My Drive/summer internship/all_stocks_5yr.csv')\n",
        "data.shape"
      ],
      "execution_count": 8,
      "outputs": [
        {
          "output_type": "execute_result",
          "data": {
            "text/plain": [
              "(619040, 7)"
            ]
          },
          "metadata": {
            "tags": []
          },
          "execution_count": 8
        }
      ]
    },
    {
      "cell_type": "code",
      "metadata": {
        "id": "mO2HVsdg8_uO",
        "colab_type": "code",
        "colab": {
          "base_uri": "https://localhost:8080/",
          "height": 195
        },
        "outputId": "9c766013-3848-491c-e70d-15ab3260db8d"
      },
      "source": [
        "# Top Five rows\n",
        "data.head()"
      ],
      "execution_count": 9,
      "outputs": [
        {
          "output_type": "execute_result",
          "data": {
            "text/html": [
              "<div>\n",
              "<style scoped>\n",
              "    .dataframe tbody tr th:only-of-type {\n",
              "        vertical-align: middle;\n",
              "    }\n",
              "\n",
              "    .dataframe tbody tr th {\n",
              "        vertical-align: top;\n",
              "    }\n",
              "\n",
              "    .dataframe thead th {\n",
              "        text-align: right;\n",
              "    }\n",
              "</style>\n",
              "<table border=\"1\" class=\"dataframe\">\n",
              "  <thead>\n",
              "    <tr style=\"text-align: right;\">\n",
              "      <th></th>\n",
              "      <th>date</th>\n",
              "      <th>open</th>\n",
              "      <th>high</th>\n",
              "      <th>low</th>\n",
              "      <th>close</th>\n",
              "      <th>volume</th>\n",
              "      <th>Name</th>\n",
              "    </tr>\n",
              "  </thead>\n",
              "  <tbody>\n",
              "    <tr>\n",
              "      <th>0</th>\n",
              "      <td>2013-02-08</td>\n",
              "      <td>15.07</td>\n",
              "      <td>15.12</td>\n",
              "      <td>14.63</td>\n",
              "      <td>14.75</td>\n",
              "      <td>8407500</td>\n",
              "      <td>AAL</td>\n",
              "    </tr>\n",
              "    <tr>\n",
              "      <th>1</th>\n",
              "      <td>2013-02-11</td>\n",
              "      <td>14.89</td>\n",
              "      <td>15.01</td>\n",
              "      <td>14.26</td>\n",
              "      <td>14.46</td>\n",
              "      <td>8882000</td>\n",
              "      <td>AAL</td>\n",
              "    </tr>\n",
              "    <tr>\n",
              "      <th>2</th>\n",
              "      <td>2013-02-12</td>\n",
              "      <td>14.45</td>\n",
              "      <td>14.51</td>\n",
              "      <td>14.10</td>\n",
              "      <td>14.27</td>\n",
              "      <td>8126000</td>\n",
              "      <td>AAL</td>\n",
              "    </tr>\n",
              "    <tr>\n",
              "      <th>3</th>\n",
              "      <td>2013-02-13</td>\n",
              "      <td>14.30</td>\n",
              "      <td>14.94</td>\n",
              "      <td>14.25</td>\n",
              "      <td>14.66</td>\n",
              "      <td>10259500</td>\n",
              "      <td>AAL</td>\n",
              "    </tr>\n",
              "    <tr>\n",
              "      <th>4</th>\n",
              "      <td>2013-02-14</td>\n",
              "      <td>14.94</td>\n",
              "      <td>14.96</td>\n",
              "      <td>13.16</td>\n",
              "      <td>13.99</td>\n",
              "      <td>31879900</td>\n",
              "      <td>AAL</td>\n",
              "    </tr>\n",
              "  </tbody>\n",
              "</table>\n",
              "</div>"
            ],
            "text/plain": [
              "         date   open   high    low  close    volume Name\n",
              "0  2013-02-08  15.07  15.12  14.63  14.75   8407500  AAL\n",
              "1  2013-02-11  14.89  15.01  14.26  14.46   8882000  AAL\n",
              "2  2013-02-12  14.45  14.51  14.10  14.27   8126000  AAL\n",
              "3  2013-02-13  14.30  14.94  14.25  14.66  10259500  AAL\n",
              "4  2013-02-14  14.94  14.96  13.16  13.99  31879900  AAL"
            ]
          },
          "metadata": {
            "tags": []
          },
          "execution_count": 9
        }
      ]
    },
    {
      "cell_type": "code",
      "metadata": {
        "id": "xfdlWA-9-F8y",
        "colab_type": "code",
        "colab": {
          "base_uri": "https://localhost:8080/",
          "height": 34
        },
        "outputId": "a171de53-6915-442e-c0b5-07d1929f2966"
      },
      "source": [
        "data.columns"
      ],
      "execution_count": 10,
      "outputs": [
        {
          "output_type": "execute_result",
          "data": {
            "text/plain": [
              "Index(['date', 'open', 'high', 'low', 'close', 'volume', 'Name'], dtype='object')"
            ]
          },
          "metadata": {
            "tags": []
          },
          "execution_count": 10
        }
      ]
    },
    {
      "cell_type": "code",
      "metadata": {
        "id": "3vKfEXxi-NwP",
        "colab_type": "code",
        "colab": {
          "base_uri": "https://localhost:8080/",
          "height": 34
        },
        "outputId": "2a4ce144-39e7-46a1-e4d4-5b2ae65c74b4"
      },
      "source": [
        "### How many company's data we have here?\n",
        "data.Name.nunique()"
      ],
      "execution_count": 12,
      "outputs": [
        {
          "output_type": "execute_result",
          "data": {
            "text/plain": [
              "505"
            ]
          },
          "metadata": {
            "tags": []
          },
          "execution_count": 12
        }
      ]
    },
    {
      "cell_type": "code",
      "metadata": {
        "id": "au3mWKlM-U6Q",
        "colab_type": "code",
        "colab": {
          "base_uri": "https://localhost:8080/",
          "height": 34
        },
        "outputId": "2e1828cf-9bd6-47aa-8ec5-1bdb3898e93b"
      },
      "source": [
        "## Selecting the data AAL\n",
        "df = data[data['Name']=='AAL']\n",
        "df.shape"
      ],
      "execution_count": 13,
      "outputs": [
        {
          "output_type": "execute_result",
          "data": {
            "text/plain": [
              "(1259, 7)"
            ]
          },
          "metadata": {
            "tags": []
          },
          "execution_count": 13
        }
      ]
    },
    {
      "cell_type": "code",
      "metadata": {
        "id": "ptcOqm5w-vtp",
        "colab_type": "code",
        "colab": {
          "base_uri": "https://localhost:8080/",
          "height": 34
        },
        "outputId": "226d362e-8807-4d51-fbdb-22ffbcb87411"
      },
      "source": [
        "df.columns"
      ],
      "execution_count": 14,
      "outputs": [
        {
          "output_type": "execute_result",
          "data": {
            "text/plain": [
              "Index(['date', 'open', 'high', 'low', 'close', 'volume', 'Name'], dtype='object')"
            ]
          },
          "metadata": {
            "tags": []
          },
          "execution_count": 14
        }
      ]
    },
    {
      "cell_type": "code",
      "metadata": {
        "id": "7PLWQr5P-ymJ",
        "colab_type": "code",
        "colab": {
          "base_uri": "https://localhost:8080/",
          "height": 402
        },
        "outputId": "bcbfd5bd-6f19-4d44-fd3d-2f9efa0048ec"
      },
      "source": [
        "#select the columns data and close price\n",
        "df = df[['date','close']]\n",
        "df"
      ],
      "execution_count": 15,
      "outputs": [
        {
          "output_type": "execute_result",
          "data": {
            "text/html": [
              "<div>\n",
              "<style scoped>\n",
              "    .dataframe tbody tr th:only-of-type {\n",
              "        vertical-align: middle;\n",
              "    }\n",
              "\n",
              "    .dataframe tbody tr th {\n",
              "        vertical-align: top;\n",
              "    }\n",
              "\n",
              "    .dataframe thead th {\n",
              "        text-align: right;\n",
              "    }\n",
              "</style>\n",
              "<table border=\"1\" class=\"dataframe\">\n",
              "  <thead>\n",
              "    <tr style=\"text-align: right;\">\n",
              "      <th></th>\n",
              "      <th>date</th>\n",
              "      <th>close</th>\n",
              "    </tr>\n",
              "  </thead>\n",
              "  <tbody>\n",
              "    <tr>\n",
              "      <th>0</th>\n",
              "      <td>2013-02-08</td>\n",
              "      <td>14.75</td>\n",
              "    </tr>\n",
              "    <tr>\n",
              "      <th>1</th>\n",
              "      <td>2013-02-11</td>\n",
              "      <td>14.46</td>\n",
              "    </tr>\n",
              "    <tr>\n",
              "      <th>2</th>\n",
              "      <td>2013-02-12</td>\n",
              "      <td>14.27</td>\n",
              "    </tr>\n",
              "    <tr>\n",
              "      <th>3</th>\n",
              "      <td>2013-02-13</td>\n",
              "      <td>14.66</td>\n",
              "    </tr>\n",
              "    <tr>\n",
              "      <th>4</th>\n",
              "      <td>2013-02-14</td>\n",
              "      <td>13.99</td>\n",
              "    </tr>\n",
              "    <tr>\n",
              "      <th>...</th>\n",
              "      <td>...</td>\n",
              "      <td>...</td>\n",
              "    </tr>\n",
              "    <tr>\n",
              "      <th>1254</th>\n",
              "      <td>2018-02-01</td>\n",
              "      <td>53.88</td>\n",
              "    </tr>\n",
              "    <tr>\n",
              "      <th>1255</th>\n",
              "      <td>2018-02-02</td>\n",
              "      <td>52.10</td>\n",
              "    </tr>\n",
              "    <tr>\n",
              "      <th>1256</th>\n",
              "      <td>2018-02-05</td>\n",
              "      <td>49.76</td>\n",
              "    </tr>\n",
              "    <tr>\n",
              "      <th>1257</th>\n",
              "      <td>2018-02-06</td>\n",
              "      <td>51.18</td>\n",
              "    </tr>\n",
              "    <tr>\n",
              "      <th>1258</th>\n",
              "      <td>2018-02-07</td>\n",
              "      <td>51.40</td>\n",
              "    </tr>\n",
              "  </tbody>\n",
              "</table>\n",
              "<p>1259 rows × 2 columns</p>\n",
              "</div>"
            ],
            "text/plain": [
              "            date  close\n",
              "0     2013-02-08  14.75\n",
              "1     2013-02-11  14.46\n",
              "2     2013-02-12  14.27\n",
              "3     2013-02-13  14.66\n",
              "4     2013-02-14  13.99\n",
              "...          ...    ...\n",
              "1254  2018-02-01  53.88\n",
              "1255  2018-02-02  52.10\n",
              "1256  2018-02-05  49.76\n",
              "1257  2018-02-06  51.18\n",
              "1258  2018-02-07  51.40\n",
              "\n",
              "[1259 rows x 2 columns]"
            ]
          },
          "metadata": {
            "tags": []
          },
          "execution_count": 15
        }
      ]
    },
    {
      "cell_type": "code",
      "metadata": {
        "id": "MpbU4HfJ_B3b",
        "colab_type": "code",
        "colab": {
          "base_uri": "https://localhost:8080/",
          "height": 283
        },
        "outputId": "e2e1dfd4-a1ae-43a5-c17a-b0400976ba14"
      },
      "source": [
        "#line plot\n",
        "import matplotlib.pyplot as plt\n",
        "plt.plot(df['date'],df['close'])"
      ],
      "execution_count": 16,
      "outputs": [
        {
          "output_type": "execute_result",
          "data": {
            "text/plain": [
              "[<matplotlib.lines.Line2D at 0x7f1c2bf9dfd0>]"
            ]
          },
          "metadata": {
            "tags": []
          },
          "execution_count": 16
        },
        {
          "output_type": "display_data",
          "data": {
            "image/png": "[encoded data removed]",
            "text/plain": [
              "<Figure size 432x288 with 1 Axes>"
            ]
          },
          "metadata": {
            "tags": [],
            "needs_background": "light"
          }
        }
      ]
    },
    {
      "cell_type": "code",
      "metadata": {
        "id": "TPjGRa3t_On2",
        "colab_type": "code",
        "colab": {
          "base_uri": "https://localhost:8080/",
          "height": 202
        },
        "outputId": "c41cbbba-5726-4593-bdba-034e77c48302"
      },
      "source": [
        "df.date[:10]"
      ],
      "execution_count": 17,
      "outputs": [
        {
          "output_type": "execute_result",
          "data": {
            "text/plain": [
              "0    2013-02-08\n",
              "1    2013-02-11\n",
              "2    2013-02-12\n",
              "3    2013-02-13\n",
              "4    2013-02-14\n",
              "5    2013-02-15\n",
              "6    2013-02-19\n",
              "7    2013-02-20\n",
              "8    2013-02-21\n",
              "9    2013-02-22\n",
              "Name: date, dtype: object"
            ]
          },
          "metadata": {
            "tags": []
          },
          "execution_count": 17
        }
      ]
    },
    {
      "cell_type": "code",
      "metadata": {
        "id": "6OVvsbkeDPdr",
        "colab_type": "code",
        "colab": {
          "base_uri": "https://localhost:8080/",
          "height": 67
        },
        "outputId": "2e948944-77c7-4151-a2d0-162eda1681ab"
      },
      "source": [
        "### Missing values in the data\n",
        "df.isnull().sum()"
      ],
      "execution_count": 18,
      "outputs": [
        {
          "output_type": "execute_result",
          "data": {
            "text/plain": [
              "date     0\n",
              "close    0\n",
              "dtype: int64"
            ]
          },
          "metadata": {
            "tags": []
          },
          "execution_count": 18
        }
      ]
    },
    {
      "cell_type": "code",
      "metadata": {
        "id": "FoPY-SnRDTry",
        "colab_type": "code",
        "colab": {
          "base_uri": "https://localhost:8080/",
          "height": 269
        },
        "outputId": "5fb33125-4ba4-45b5-af73-4959cec96e12"
      },
      "source": [
        "## Preparing the data\n",
        "## Features and target\n",
        "## Input and output\n",
        "## last 7 days data as input\n",
        "## X -- [[d1-d7],[d9,d15],[d17,23]....]\n",
        "## y -- [d8,d16,d24,...]\n",
        "\n",
        "## X = [[d1-d7],[d2-d8],]\n",
        "## y = [d8,d9]\n",
        "\n",
        "X = [] ## input\n",
        "y = [] ## ouput\n",
        "for i  in range(df.shape[0]-7-1):   \n",
        "  X.append(df['close'][i:i+7])# 0 -->[0:7], 1-->[1:8]\n",
        "  y.append(df['close'][i+7])# 7,8,9\n",
        "print(X[:2])"
      ],
      "execution_count": 21,
      "outputs": [
        {
          "output_type": "stream",
          "text": [
            "[0    14.75\n",
            "1    14.46\n",
            "2    14.27\n",
            "3    14.66\n",
            "4    13.99\n",
            "5    14.50\n",
            "6    14.26\n",
            "Name: close, dtype: float64, 1    14.46\n",
            "2    14.27\n",
            "3    14.66\n",
            "4    13.99\n",
            "5    14.50\n",
            "6    14.26\n",
            "7    13.33\n",
            "Name: close, dtype: float64]\n"
          ],
          "name": "stdout"
        }
      ]
    },
    {
      "cell_type": "code",
      "metadata": {
        "id": "g8Us1e0xGtls",
        "colab_type": "code",
        "colab": {}
      },
      "source": [
        "import numpy as np\n",
        "X = np.array(X)"
      ],
      "execution_count": 22,
      "outputs": []
    },
    {
      "cell_type": "code",
      "metadata": {
        "id": "R2hTTPimGww0",
        "colab_type": "code",
        "colab": {
          "base_uri": "https://localhost:8080/",
          "height": 195
        },
        "outputId": "5a4caff3-900c-4ed3-ae34-9548f334438a"
      },
      "source": [
        "df1  = pd.DataFrame(X,columns=['d1','d2','d3','d4','d5','d6','d7'])\n",
        "df1.head()"
      ],
      "execution_count": 23,
      "outputs": [
        {
          "output_type": "execute_result",
          "data": {
            "text/html": [
              "<div>\n",
              "<style scoped>\n",
              "    .dataframe tbody tr th:only-of-type {\n",
              "        vertical-align: middle;\n",
              "    }\n",
              "\n",
              "    .dataframe tbody tr th {\n",
              "        vertical-align: top;\n",
              "    }\n",
              "\n",
              "    .dataframe thead th {\n",
              "        text-align: right;\n",
              "    }\n",
              "</style>\n",
              "<table border=\"1\" class=\"dataframe\">\n",
              "  <thead>\n",
              "    <tr style=\"text-align: right;\">\n",
              "      <th></th>\n",
              "      <th>d1</th>\n",
              "      <th>d2</th>\n",
              "      <th>d3</th>\n",
              "      <th>d4</th>\n",
              "      <th>d5</th>\n",
              "      <th>d6</th>\n",
              "      <th>d7</th>\n",
              "    </tr>\n",
              "  </thead>\n",
              "  <tbody>\n",
              "    <tr>\n",
              "      <th>0</th>\n",
              "      <td>14.75</td>\n",
              "      <td>14.46</td>\n",
              "      <td>14.27</td>\n",
              "      <td>14.66</td>\n",
              "      <td>13.99</td>\n",
              "      <td>14.50</td>\n",
              "      <td>14.26</td>\n",
              "    </tr>\n",
              "    <tr>\n",
              "      <th>1</th>\n",
              "      <td>14.46</td>\n",
              "      <td>14.27</td>\n",
              "      <td>14.66</td>\n",
              "      <td>13.99</td>\n",
              "      <td>14.50</td>\n",
              "      <td>14.26</td>\n",
              "      <td>13.33</td>\n",
              "    </tr>\n",
              "    <tr>\n",
              "      <th>2</th>\n",
              "      <td>14.27</td>\n",
              "      <td>14.66</td>\n",
              "      <td>13.99</td>\n",
              "      <td>14.50</td>\n",
              "      <td>14.26</td>\n",
              "      <td>13.33</td>\n",
              "      <td>13.37</td>\n",
              "    </tr>\n",
              "    <tr>\n",
              "      <th>3</th>\n",
              "      <td>14.66</td>\n",
              "      <td>13.99</td>\n",
              "      <td>14.50</td>\n",
              "      <td>14.26</td>\n",
              "      <td>13.33</td>\n",
              "      <td>13.37</td>\n",
              "      <td>13.57</td>\n",
              "    </tr>\n",
              "    <tr>\n",
              "      <th>4</th>\n",
              "      <td>13.99</td>\n",
              "      <td>14.50</td>\n",
              "      <td>14.26</td>\n",
              "      <td>13.33</td>\n",
              "      <td>13.37</td>\n",
              "      <td>13.57</td>\n",
              "      <td>13.02</td>\n",
              "    </tr>\n",
              "  </tbody>\n",
              "</table>\n",
              "</div>"
            ],
            "text/plain": [
              "      d1     d2     d3     d4     d5     d6     d7\n",
              "0  14.75  14.46  14.27  14.66  13.99  14.50  14.26\n",
              "1  14.46  14.27  14.66  13.99  14.50  14.26  13.33\n",
              "2  14.27  14.66  13.99  14.50  14.26  13.33  13.37\n",
              "3  14.66  13.99  14.50  14.26  13.33  13.37  13.57\n",
              "4  13.99  14.50  14.26  13.33  13.37  13.57  13.02"
            ]
          },
          "metadata": {
            "tags": []
          },
          "execution_count": 23
        }
      ]
    },
    {
      "cell_type": "code",
      "metadata": {
        "id": "yHANsBFsG0N9",
        "colab_type": "code",
        "colab": {
          "base_uri": "https://localhost:8080/",
          "height": 195
        },
        "outputId": "de48b669-1d05-4b34-f48e-a6926c92727a"
      },
      "source": [
        "df1['d8'] = y\n",
        "df1.head()"
      ],
      "execution_count": 24,
      "outputs": [
        {
          "output_type": "execute_result",
          "data": {
            "text/html": [
              "<div>\n",
              "<style scoped>\n",
              "    .dataframe tbody tr th:only-of-type {\n",
              "        vertical-align: middle;\n",
              "    }\n",
              "\n",
              "    .dataframe tbody tr th {\n",
              "        vertical-align: top;\n",
              "    }\n",
              "\n",
              "    .dataframe thead th {\n",
              "        text-align: right;\n",
              "    }\n",
              "</style>\n",
              "<table border=\"1\" class=\"dataframe\">\n",
              "  <thead>\n",
              "    <tr style=\"text-align: right;\">\n",
              "      <th></th>\n",
              "      <th>d1</th>\n",
              "      <th>d2</th>\n",
              "      <th>d3</th>\n",
              "      <th>d4</th>\n",
              "      <th>d5</th>\n",
              "      <th>d6</th>\n",
              "      <th>d7</th>\n",
              "      <th>d8</th>\n",
              "    </tr>\n",
              "  </thead>\n",
              "  <tbody>\n",
              "    <tr>\n",
              "      <th>0</th>\n",
              "      <td>14.75</td>\n",
              "      <td>14.46</td>\n",
              "      <td>14.27</td>\n",
              "      <td>14.66</td>\n",
              "      <td>13.99</td>\n",
              "      <td>14.50</td>\n",
              "      <td>14.26</td>\n",
              "      <td>13.33</td>\n",
              "    </tr>\n",
              "    <tr>\n",
              "      <th>1</th>\n",
              "      <td>14.46</td>\n",
              "      <td>14.27</td>\n",
              "      <td>14.66</td>\n",
              "      <td>13.99</td>\n",
              "      <td>14.50</td>\n",
              "      <td>14.26</td>\n",
              "      <td>13.33</td>\n",
              "      <td>13.37</td>\n",
              "    </tr>\n",
              "    <tr>\n",
              "      <th>2</th>\n",
              "      <td>14.27</td>\n",
              "      <td>14.66</td>\n",
              "      <td>13.99</td>\n",
              "      <td>14.50</td>\n",
              "      <td>14.26</td>\n",
              "      <td>13.33</td>\n",
              "      <td>13.37</td>\n",
              "      <td>13.57</td>\n",
              "    </tr>\n",
              "    <tr>\n",
              "      <th>3</th>\n",
              "      <td>14.66</td>\n",
              "      <td>13.99</td>\n",
              "      <td>14.50</td>\n",
              "      <td>14.26</td>\n",
              "      <td>13.33</td>\n",
              "      <td>13.37</td>\n",
              "      <td>13.57</td>\n",
              "      <td>13.02</td>\n",
              "    </tr>\n",
              "    <tr>\n",
              "      <th>4</th>\n",
              "      <td>13.99</td>\n",
              "      <td>14.50</td>\n",
              "      <td>14.26</td>\n",
              "      <td>13.33</td>\n",
              "      <td>13.37</td>\n",
              "      <td>13.57</td>\n",
              "      <td>13.02</td>\n",
              "      <td>13.26</td>\n",
              "    </tr>\n",
              "  </tbody>\n",
              "</table>\n",
              "</div>"
            ],
            "text/plain": [
              "      d1     d2     d3     d4     d5     d6     d7     d8\n",
              "0  14.75  14.46  14.27  14.66  13.99  14.50  14.26  13.33\n",
              "1  14.46  14.27  14.66  13.99  14.50  14.26  13.33  13.37\n",
              "2  14.27  14.66  13.99  14.50  14.26  13.33  13.37  13.57\n",
              "3  14.66  13.99  14.50  14.26  13.33  13.37  13.57  13.02\n",
              "4  13.99  14.50  14.26  13.33  13.37  13.57  13.02  13.26"
            ]
          },
          "metadata": {
            "tags": []
          },
          "execution_count": 24
        }
      ]
    },
    {
      "cell_type": "code",
      "metadata": {
        "id": "_ouP22FRG3eM",
        "colab_type": "code",
        "colab": {
          "base_uri": "https://localhost:8080/",
          "height": 34
        },
        "outputId": "89d968db-e64f-40c3-8510-0b6c4715caf8"
      },
      "source": [
        "df1.shape"
      ],
      "execution_count": 25,
      "outputs": [
        {
          "output_type": "execute_result",
          "data": {
            "text/plain": [
              "(1251, 8)"
            ]
          },
          "metadata": {
            "tags": []
          },
          "execution_count": 25
        }
      ]
    },
    {
      "cell_type": "code",
      "metadata": {
        "id": "CV5G5GUMG8Jm",
        "colab_type": "code",
        "colab": {}
      },
      "source": [
        "## Train test split\n",
        "train "
      ],
      "execution_count": null,
      "outputs": []
    },
    {
      "cell_type": "code",
      "metadata": {
        "id": "LXg27Hw5MJ7z",
        "colab_type": "code",
        "colab": {
          "base_uri": "https://localhost:8080/",
          "height": 34
        },
        "outputId": "0317832c-0b98-41ee-ea41-1aa8ea920dab"
      },
      "source": [
        "1251 * 0.8"
      ],
      "execution_count": 26,
      "outputs": [
        {
          "output_type": "execute_result",
          "data": {
            "text/plain": [
              "1000.8000000000001"
            ]
          },
          "metadata": {
            "tags": []
          },
          "execution_count": 26
        }
      ]
    },
    {
      "cell_type": "code",
      "metadata": {
        "id": "zcmbLgjMMLB3",
        "colab_type": "code",
        "colab": {
          "base_uri": "https://localhost:8080/",
          "height": 84
        },
        "outputId": "26247501-d092-4df1-a953-b9820485b3b2"
      },
      "source": [
        "## Train test split\n",
        "X_train = df1.iloc[0:1000,0:7]\n",
        "X_test = df1.iloc[1000:,0:7]\n",
        "y_train =  df1['d8'][:1000]\n",
        "y_test  = df1['d8'][1000:]\n",
        "print(X_train.shape)\n",
        "print(y_train.shape)\n",
        "print(X_test.shape)\n",
        "print(y_test.shape)"
      ],
      "execution_count": 27,
      "outputs": [
        {
          "output_type": "stream",
          "text": [
            "(1000, 7)\n",
            "(1000,)\n",
            "(251, 7)\n",
            "(251,)\n"
          ],
          "name": "stdout"
        }
      ]
    },
    {
      "cell_type": "code",
      "metadata": {
        "id": "DbQmRFehMOyA",
        "colab_type": "code",
        "colab": {
          "base_uri": "https://localhost:8080/",
          "height": 284
        },
        "outputId": "06f40825-5df1-4bbc-dfa7-d45555d943f3"
      },
      "source": [
        "## Sacling the data\n",
        "from sklearn.preprocessing import StandardScaler\n",
        "sc = StandardScaler()\n",
        "sc.fit(X_train)\n",
        "X_train_sc = pd.DataFrame(sc.transform(X_train),columns = X_train.columns)\n",
        "X_test_sc = pd.DataFrame(sc.transform(X_test),columns = X_train.columns)\n",
        "X_train_sc.describe()"
      ],
      "execution_count": 28,
      "outputs": [
        {
          "output_type": "execute_result",
          "data": {
            "text/html": [
              "<div>\n",
              "<style scoped>\n",
              "    .dataframe tbody tr th:only-of-type {\n",
              "        vertical-align: middle;\n",
              "    }\n",
              "\n",
              "    .dataframe tbody tr th {\n",
              "        vertical-align: top;\n",
              "    }\n",
              "\n",
              "    .dataframe thead th {\n",
              "        text-align: right;\n",
              "    }\n",
              "</style>\n",
              "<table border=\"1\" class=\"dataframe\">\n",
              "  <thead>\n",
              "    <tr style=\"text-align: right;\">\n",
              "      <th></th>\n",
              "      <th>d1</th>\n",
              "      <th>d2</th>\n",
              "      <th>d3</th>\n",
              "      <th>d4</th>\n",
              "      <th>d5</th>\n",
              "      <th>d6</th>\n",
              "      <th>d7</th>\n",
              "    </tr>\n",
              "  </thead>\n",
              "  <tbody>\n",
              "    <tr>\n",
              "      <th>count</th>\n",
              "      <td>1.000000e+03</td>\n",
              "      <td>1.000000e+03</td>\n",
              "      <td>1.000000e+03</td>\n",
              "      <td>1.000000e+03</td>\n",
              "      <td>1.000000e+03</td>\n",
              "      <td>1.000000e+03</td>\n",
              "      <td>1.000000e+03</td>\n",
              "    </tr>\n",
              "    <tr>\n",
              "      <th>mean</th>\n",
              "      <td>5.107026e-17</td>\n",
              "      <td>1.179057e-16</td>\n",
              "      <td>3.196332e-16</td>\n",
              "      <td>8.437695e-18</td>\n",
              "      <td>-2.058353e-16</td>\n",
              "      <td>6.408207e-16</td>\n",
              "      <td>3.573808e-16</td>\n",
              "    </tr>\n",
              "    <tr>\n",
              "      <th>std</th>\n",
              "      <td>1.000500e+00</td>\n",
              "      <td>1.000500e+00</td>\n",
              "      <td>1.000500e+00</td>\n",
              "      <td>1.000500e+00</td>\n",
              "      <td>1.000500e+00</td>\n",
              "      <td>1.000500e+00</td>\n",
              "      <td>1.000500e+00</td>\n",
              "    </tr>\n",
              "    <tr>\n",
              "      <th>min</th>\n",
              "      <td>-2.119798e+00</td>\n",
              "      <td>-2.125939e+00</td>\n",
              "      <td>-2.132307e+00</td>\n",
              "      <td>-2.138824e+00</td>\n",
              "      <td>-2.145197e+00</td>\n",
              "      <td>-2.151939e+00</td>\n",
              "      <td>-2.158392e+00</td>\n",
              "    </tr>\n",
              "    <tr>\n",
              "      <th>25%</th>\n",
              "      <td>-5.582080e-01</td>\n",
              "      <td>-5.486430e-01</td>\n",
              "      <td>-5.493180e-01</td>\n",
              "      <td>-5.516601e-01</td>\n",
              "      <td>-5.450605e-01</td>\n",
              "      <td>-5.350756e-01</td>\n",
              "      <td>-5.332242e-01</td>\n",
              "    </tr>\n",
              "    <tr>\n",
              "      <th>50%</th>\n",
              "      <td>2.659776e-01</td>\n",
              "      <td>2.649882e-01</td>\n",
              "      <td>2.640589e-01</td>\n",
              "      <td>2.640761e-01</td>\n",
              "      <td>2.641178e-01</td>\n",
              "      <td>2.631759e-01</td>\n",
              "      <td>2.621305e-01</td>\n",
              "    </tr>\n",
              "    <tr>\n",
              "      <th>75%</th>\n",
              "      <td>6.620601e-01</td>\n",
              "      <td>6.644832e-01</td>\n",
              "      <td>6.649275e-01</td>\n",
              "      <td>6.633158e-01</td>\n",
              "      <td>6.633343e-01</td>\n",
              "      <td>6.668651e-01</td>\n",
              "      <td>6.666995e-01</td>\n",
              "    </tr>\n",
              "    <tr>\n",
              "      <th>max</th>\n",
              "      <td>1.847059e+00</td>\n",
              "      <td>1.847165e+00</td>\n",
              "      <td>1.847513e+00</td>\n",
              "      <td>1.847976e+00</td>\n",
              "      <td>1.848369e+00</td>\n",
              "      <td>1.848914e+00</td>\n",
              "      <td>1.849089e+00</td>\n",
              "    </tr>\n",
              "  </tbody>\n",
              "</table>\n",
              "</div>"
            ],
            "text/plain": [
              "                 d1            d2  ...            d6            d7\n",
              "count  1.000000e+03  1.000000e+03  ...  1.000000e+03  1.000000e+03\n",
              "mean   5.107026e-17  1.179057e-16  ...  6.408207e-16  3.573808e-16\n",
              "std    1.000500e+00  1.000500e+00  ...  1.000500e+00  1.000500e+00\n",
              "min   -2.119798e+00 -2.125939e+00  ... -2.151939e+00 -2.158392e+00\n",
              "25%   -5.582080e-01 -5.486430e-01  ... -5.350756e-01 -5.332242e-01\n",
              "50%    2.659776e-01  2.649882e-01  ...  2.631759e-01  2.621305e-01\n",
              "75%    6.620601e-01  6.644832e-01  ...  6.668651e-01  6.666995e-01\n",
              "max    1.847059e+00  1.847165e+00  ...  1.848914e+00  1.849089e+00\n",
              "\n",
              "[8 rows x 7 columns]"
            ]
          },
          "metadata": {
            "tags": []
          },
          "execution_count": 28
        }
      ]
    },
    {
      "cell_type": "code",
      "metadata": {
        "id": "GM23gcpxMS2C",
        "colab_type": "code",
        "colab": {
          "base_uri": "https://localhost:8080/",
          "height": 235
        },
        "outputId": "fbdb0ac7-20ce-4a68-d942-4efc16e3a464"
      },
      "source": [
        "from keras.models import Sequential\n",
        "from keras.layers import Dense,Dropout,LSTM\n",
        "model = Sequential()\n",
        "model.add(LSTM(256,input_shape=(7,1)))\n",
        "model.add(Dense(1))\n",
        "model.summary()"
      ],
      "execution_count": 29,
      "outputs": [
        {
          "output_type": "stream",
          "text": [
            "Using TensorFlow backend.\n"
          ],
          "name": "stderr"
        },
        {
          "output_type": "stream",
          "text": [
            "Model: \"sequential_1\"\n",
            "_________________________________________________________________\n",
            "Layer (type)                 Output Shape              Param #   \n",
            "=================================================================\n",
            "lstm_1 (LSTM)                (None, 256)               264192    \n",
            "_________________________________________________________________\n",
            "dense_1 (Dense)              (None, 1)                 257       \n",
            "=================================================================\n",
            "Total params: 264,449\n",
            "Trainable params: 264,449\n",
            "Non-trainable params: 0\n",
            "_________________________________________________________________\n"
          ],
          "name": "stdout"
        }
      ]
    },
    {
      "cell_type": "code",
      "metadata": {
        "id": "m8m2OsZKMXF6",
        "colab_type": "code",
        "colab": {}
      },
      "source": [
        "model.compile(optimizer='adam',loss='mse')"
      ],
      "execution_count": 32,
      "outputs": []
    },
    {
      "cell_type": "code",
      "metadata": {
        "id": "wYrN77PCYVT5",
        "colab_type": "code",
        "colab": {
          "base_uri": "https://localhost:8080/",
          "height": 34
        },
        "outputId": "b774b9c7-cdc3-4997-ea5b-78d482f455f6"
      },
      "source": [
        "X_test.shape"
      ],
      "execution_count": 34,
      "outputs": [
        {
          "output_type": "execute_result",
          "data": {
            "text/plain": [
              "(251, 7)"
            ]
          },
          "metadata": {
            "tags": []
          },
          "execution_count": 34
        }
      ]
    },
    {
      "cell_type": "code",
      "metadata": {
        "id": "YN8stxEeYhco",
        "colab_type": "code",
        "colab": {}
      },
      "source": [
        "# number of records , time steps,Features\n",
        "X_train_sc = X_train_sc.values.reshape(1000,7,1)\n",
        "X_test_sc = X_test_sc.values.reshape(251,7,1)"
      ],
      "execution_count": 35,
      "outputs": []
    },
    {
      "cell_type": "code",
      "metadata": {
        "id": "JYYsWNZ1MfDE",
        "colab_type": "code",
        "colab": {
          "base_uri": "https://localhost:8080/",
          "height": 1000
        },
        "outputId": "bf240e9a-2255-4209-c94f-98464194a78e"
      },
      "source": [
        "history = model.fit(X_train_sc,y_train,epochs=100,validation_data=(X_test_sc,y_test))"
      ],
      "execution_count": 36,
      "outputs": [
        {
          "output_type": "stream",
          "text": [
            "Train on 1000 samples, validate on 251 samples\n",
            "Epoch 1/100\n",
            "1000/1000 [==============================] - 1s 1ms/step - loss: 2.1631 - val_loss: 2.1221\n",
            "Epoch 2/100\n",
            "1000/1000 [==============================] - 1s 1ms/step - loss: 1.3316 - val_loss: 1.5391\n",
            "Epoch 3/100\n",
            "1000/1000 [==============================] - 1s 1ms/step - loss: 1.4078 - val_loss: 1.9450\n",
            "Epoch 4/100\n",
            "1000/1000 [==============================] - 1s 1ms/step - loss: 1.2629 - val_loss: 1.9377\n",
            "Epoch 5/100\n",
            "1000/1000 [==============================] - 1s 1ms/step - loss: 1.2406 - val_loss: 1.6195\n",
            "Epoch 6/100\n",
            "1000/1000 [==============================] - 1s 1ms/step - loss: 1.2798 - val_loss: 1.6257\n",
            "Epoch 7/100\n",
            "1000/1000 [==============================] - 1s 1ms/step - loss: 1.2076 - val_loss: 1.4337\n",
            "Epoch 8/100\n",
            "1000/1000 [==============================] - 1s 1ms/step - loss: 1.3343 - val_loss: 2.0353\n",
            "Epoch 9/100\n",
            "1000/1000 [==============================] - 1s 1ms/step - loss: 1.2691 - val_loss: 1.3326\n",
            "Epoch 10/100\n",
            "1000/1000 [==============================] - 1s 1ms/step - loss: 1.2873 - val_loss: 1.3769\n",
            "Epoch 11/100\n",
            "1000/1000 [==============================] - 1s 1ms/step - loss: 1.2083 - val_loss: 1.9605\n",
            "Epoch 12/100\n",
            "1000/1000 [==============================] - 1s 1ms/step - loss: 1.4884 - val_loss: 3.2380\n",
            "Epoch 13/100\n",
            "1000/1000 [==============================] - 1s 1ms/step - loss: 1.6036 - val_loss: 1.3922\n",
            "Epoch 14/100\n",
            "1000/1000 [==============================] - 1s 1ms/step - loss: 1.2324 - val_loss: 1.5244\n",
            "Epoch 15/100\n",
            "1000/1000 [==============================] - 1s 1ms/step - loss: 1.3985 - val_loss: 1.8098\n",
            "Epoch 16/100\n",
            "1000/1000 [==============================] - 1s 1ms/step - loss: 1.1924 - val_loss: 1.3150\n",
            "Epoch 17/100\n",
            "1000/1000 [==============================] - 1s 1ms/step - loss: 1.1773 - val_loss: 1.4018\n",
            "Epoch 18/100\n",
            "1000/1000 [==============================] - 1s 1ms/step - loss: 1.1911 - val_loss: 1.2216\n",
            "Epoch 19/100\n",
            "1000/1000 [==============================] - 1s 1ms/step - loss: 1.4557 - val_loss: 2.4468\n",
            "Epoch 20/100\n",
            "1000/1000 [==============================] - 1s 1ms/step - loss: 1.6466 - val_loss: 1.5646\n",
            "Epoch 21/100\n",
            "1000/1000 [==============================] - 1s 1ms/step - loss: 1.2185 - val_loss: 1.3867\n",
            "Epoch 22/100\n",
            "1000/1000 [==============================] - 1s 1ms/step - loss: 1.2205 - val_loss: 1.2712\n",
            "Epoch 23/100\n",
            "1000/1000 [==============================] - 1s 1ms/step - loss: 1.2460 - val_loss: 2.9478\n",
            "Epoch 24/100\n",
            "1000/1000 [==============================] - 1s 1ms/step - loss: 1.2624 - val_loss: 1.3613\n",
            "Epoch 25/100\n",
            "1000/1000 [==============================] - 1s 1ms/step - loss: 1.1558 - val_loss: 1.1533\n",
            "Epoch 26/100\n",
            "1000/1000 [==============================] - 1s 1ms/step - loss: 1.1126 - val_loss: 1.1525\n",
            "Epoch 27/100\n",
            "1000/1000 [==============================] - 1s 1ms/step - loss: 1.0231 - val_loss: 1.4015\n",
            "Epoch 28/100\n",
            "1000/1000 [==============================] - 1s 1ms/step - loss: 1.0408 - val_loss: 1.1888\n",
            "Epoch 29/100\n",
            "1000/1000 [==============================] - 1s 1ms/step - loss: 1.2598 - val_loss: 1.2030\n",
            "Epoch 30/100\n",
            "1000/1000 [==============================] - 1s 1ms/step - loss: 1.0562 - val_loss: 1.1175\n",
            "Epoch 31/100\n",
            "1000/1000 [==============================] - 1s 1ms/step - loss: 1.0901 - val_loss: 1.5025\n",
            "Epoch 32/100\n",
            "1000/1000 [==============================] - 1s 1ms/step - loss: 1.0999 - val_loss: 1.1402\n",
            "Epoch 33/100\n",
            "1000/1000 [==============================] - 1s 1ms/step - loss: 1.0702 - val_loss: 1.3685\n",
            "Epoch 34/100\n",
            "1000/1000 [==============================] - 1s 1ms/step - loss: 1.0995 - val_loss: 1.1806\n",
            "Epoch 35/100\n",
            "1000/1000 [==============================] - 1s 1ms/step - loss: 1.0489 - val_loss: 1.1513\n",
            "Epoch 36/100\n",
            "1000/1000 [==============================] - 1s 1ms/step - loss: 1.0387 - val_loss: 1.1466\n",
            "Epoch 37/100\n",
            "1000/1000 [==============================] - 1s 1ms/step - loss: 1.2260 - val_loss: 1.4505\n",
            "Epoch 38/100\n",
            "1000/1000 [==============================] - 1s 1ms/step - loss: 1.2489 - val_loss: 1.1891\n",
            "Epoch 39/100\n",
            "1000/1000 [==============================] - 1s 1ms/step - loss: 1.0633 - val_loss: 1.6999\n",
            "Epoch 40/100\n",
            "1000/1000 [==============================] - 1s 1ms/step - loss: 1.0460 - val_loss: 3.1305\n",
            "Epoch 41/100\n",
            "1000/1000 [==============================] - 1s 1ms/step - loss: 1.5376 - val_loss: 1.2224\n",
            "Epoch 42/100\n",
            "1000/1000 [==============================] - 1s 1ms/step - loss: 1.2073 - val_loss: 1.2411\n",
            "Epoch 43/100\n",
            "1000/1000 [==============================] - 1s 1ms/step - loss: 1.1737 - val_loss: 1.2662\n",
            "Epoch 44/100\n",
            "1000/1000 [==============================] - 1s 1ms/step - loss: 1.1353 - val_loss: 1.1753\n",
            "Epoch 45/100\n",
            "1000/1000 [==============================] - 1s 1ms/step - loss: 0.9883 - val_loss: 1.1042\n",
            "Epoch 46/100\n",
            "1000/1000 [==============================] - 1s 1ms/step - loss: 0.9990 - val_loss: 1.1474\n",
            "Epoch 47/100\n",
            "1000/1000 [==============================] - 1s 1ms/step - loss: 1.0355 - val_loss: 1.3126\n",
            "Epoch 48/100\n",
            "1000/1000 [==============================] - 1s 1ms/step - loss: 1.2031 - val_loss: 1.1578\n",
            "Epoch 49/100\n",
            "1000/1000 [==============================] - 1s 1ms/step - loss: 0.9934 - val_loss: 1.0714\n",
            "Epoch 50/100\n",
            "1000/1000 [==============================] - 1s 1ms/step - loss: 1.0713 - val_loss: 1.3323\n",
            "Epoch 51/100\n",
            "1000/1000 [==============================] - 1s 1ms/step - loss: 1.0001 - val_loss: 2.0960\n",
            "Epoch 52/100\n",
            "1000/1000 [==============================] - 1s 1ms/step - loss: 0.9891 - val_loss: 1.0657\n",
            "Epoch 53/100\n",
            "1000/1000 [==============================] - 1s 1ms/step - loss: 0.9647 - val_loss: 1.7514\n",
            "Epoch 54/100\n",
            "1000/1000 [==============================] - 1s 1ms/step - loss: 1.1478 - val_loss: 1.3171\n",
            "Epoch 55/100\n",
            "1000/1000 [==============================] - 1s 1ms/step - loss: 1.0991 - val_loss: 1.4649\n",
            "Epoch 56/100\n",
            "1000/1000 [==============================] - 1s 1ms/step - loss: 0.9695 - val_loss: 1.0828\n",
            "Epoch 57/100\n",
            "1000/1000 [==============================] - 1s 1ms/step - loss: 0.9716 - val_loss: 0.9600\n",
            "Epoch 58/100\n",
            "1000/1000 [==============================] - 1s 1ms/step - loss: 0.9336 - val_loss: 1.0085\n",
            "Epoch 59/100\n",
            "1000/1000 [==============================] - 1s 1ms/step - loss: 0.9639 - val_loss: 1.0068\n",
            "Epoch 60/100\n",
            "1000/1000 [==============================] - 1s 1ms/step - loss: 0.9760 - val_loss: 0.9426\n",
            "Epoch 61/100\n",
            "1000/1000 [==============================] - 1s 1ms/step - loss: 1.0085 - val_loss: 0.9976\n",
            "Epoch 62/100\n",
            "1000/1000 [==============================] - 1s 1ms/step - loss: 0.9182 - val_loss: 0.9422\n",
            "Epoch 63/100\n",
            "1000/1000 [==============================] - 1s 1ms/step - loss: 0.9710 - val_loss: 0.9494\n",
            "Epoch 64/100\n",
            "1000/1000 [==============================] - 1s 1ms/step - loss: 1.0722 - val_loss: 1.1124\n",
            "Epoch 65/100\n",
            "1000/1000 [==============================] - 1s 1ms/step - loss: 1.0149 - val_loss: 0.9869\n",
            "Epoch 66/100\n",
            "1000/1000 [==============================] - 1s 1ms/step - loss: 1.0212 - val_loss: 1.0836\n",
            "Epoch 67/100\n",
            "1000/1000 [==============================] - 1s 1ms/step - loss: 0.9338 - val_loss: 0.9763\n",
            "Epoch 68/100\n",
            "1000/1000 [==============================] - 1s 1ms/step - loss: 0.9288 - val_loss: 0.9810\n",
            "Epoch 69/100\n",
            "1000/1000 [==============================] - 1s 1ms/step - loss: 0.8981 - val_loss: 0.9230\n",
            "Epoch 70/100\n",
            "1000/1000 [==============================] - 1s 1ms/step - loss: 0.9014 - val_loss: 0.9439\n",
            "Epoch 71/100\n",
            "1000/1000 [==============================] - 1s 1ms/step - loss: 0.9143 - val_loss: 1.1206\n",
            "Epoch 72/100\n",
            "1000/1000 [==============================] - 1s 1ms/step - loss: 1.0650 - val_loss: 1.0490\n",
            "Epoch 73/100\n",
            "1000/1000 [==============================] - 1s 1ms/step - loss: 0.9102 - val_loss: 1.0121\n",
            "Epoch 74/100\n",
            "1000/1000 [==============================] - 1s 1ms/step - loss: 1.0466 - val_loss: 1.1962\n",
            "Epoch 75/100\n",
            "1000/1000 [==============================] - 1s 1ms/step - loss: 0.8855 - val_loss: 0.9525\n",
            "Epoch 76/100\n",
            "1000/1000 [==============================] - 1s 1ms/step - loss: 0.9816 - val_loss: 1.1498\n",
            "Epoch 77/100\n",
            "1000/1000 [==============================] - 1s 1ms/step - loss: 1.0399 - val_loss: 1.9301\n",
            "Epoch 78/100\n",
            "1000/1000 [==============================] - 1s 1ms/step - loss: 0.9468 - val_loss: 1.2031\n",
            "Epoch 79/100\n",
            "1000/1000 [==============================] - 1s 1ms/step - loss: 0.9178 - val_loss: 1.3676\n",
            "Epoch 80/100\n",
            "1000/1000 [==============================] - 1s 1ms/step - loss: 0.8884 - val_loss: 0.9657\n",
            "Epoch 81/100\n",
            "1000/1000 [==============================] - 1s 1ms/step - loss: 0.8888 - val_loss: 0.9756\n",
            "Epoch 82/100\n",
            "1000/1000 [==============================] - 1s 1ms/step - loss: 0.9125 - val_loss: 1.1297\n",
            "Epoch 83/100\n",
            "1000/1000 [==============================] - 1s 1ms/step - loss: 0.8959 - val_loss: 0.9095\n",
            "Epoch 84/100\n",
            "1000/1000 [==============================] - 1s 1ms/step - loss: 0.9846 - val_loss: 1.0507\n",
            "Epoch 85/100\n",
            "1000/1000 [==============================] - 1s 1ms/step - loss: 0.8761 - val_loss: 1.1924\n",
            "Epoch 86/100\n",
            "1000/1000 [==============================] - 1s 1ms/step - loss: 0.8962 - val_loss: 0.8870\n",
            "Epoch 87/100\n",
            "1000/1000 [==============================] - 1s 1ms/step - loss: 0.9015 - val_loss: 1.0130\n",
            "Epoch 88/100\n",
            "1000/1000 [==============================] - 1s 1ms/step - loss: 0.8842 - val_loss: 0.9241\n",
            "Epoch 89/100\n",
            "1000/1000 [==============================] - 1s 1ms/step - loss: 0.9487 - val_loss: 0.9402\n",
            "Epoch 90/100\n",
            "1000/1000 [==============================] - 1s 1ms/step - loss: 1.0413 - val_loss: 1.0886\n",
            "Epoch 91/100\n",
            "1000/1000 [==============================] - 1s 1ms/step - loss: 0.8604 - val_loss: 0.9873\n",
            "Epoch 92/100\n",
            "1000/1000 [==============================] - 1s 1ms/step - loss: 0.9402 - val_loss: 0.9329\n",
            "Epoch 93/100\n",
            "1000/1000 [==============================] - 1s 1ms/step - loss: 0.9134 - val_loss: 0.9190\n",
            "Epoch 94/100\n",
            "1000/1000 [==============================] - 1s 1ms/step - loss: 0.8575 - val_loss: 1.0396\n",
            "Epoch 95/100\n",
            "1000/1000 [==============================] - 1s 1ms/step - loss: 0.8504 - val_loss: 0.8561\n",
            "Epoch 96/100\n",
            "1000/1000 [==============================] - 1s 1ms/step - loss: 0.8951 - val_loss: 0.8822\n",
            "Epoch 97/100\n",
            "1000/1000 [==============================] - 1s 1ms/step - loss: 0.8498 - val_loss: 1.1639\n",
            "Epoch 98/100\n",
            "1000/1000 [==============================] - 1s 1ms/step - loss: 0.8592 - val_loss: 1.2168\n",
            "Epoch 99/100\n",
            "1000/1000 [==============================] - 1s 1ms/step - loss: 0.9787 - val_loss: 1.2987\n",
            "Epoch 100/100\n",
            "1000/1000 [==============================] - 1s 1ms/step - loss: 0.9226 - val_loss: 2.0361\n"
          ],
          "name": "stdout"
        }
      ]
    },
    {
      "cell_type": "code",
      "metadata": {
        "id": "rNF-KH9HYdip",
        "colab_type": "code",
        "colab": {
          "base_uri": "https://localhost:8080/",
          "height": 282
        },
        "outputId": "9a792422-6e16-473f-e680-0c82f5ce8ae2"
      },
      "source": [
        "tr_loss = history.history['loss']\n",
        "val_loss = history.history['val_loss']\n",
        "ep = list(range(1,101))\n",
        "plt.plot(ep,tr_loss,color='r')\n",
        "plt.plot(ep,val_loss,color='b')"
      ],
      "execution_count": 37,
      "outputs": [
        {
          "output_type": "execute_result",
          "data": {
            "text/plain": [
              "[<matplotlib.lines.Line2D at 0x7f1bd7d28c18>]"
            ]
          },
          "metadata": {
            "tags": []
          },
          "execution_count": 37
        },
        {
          "output_type": "display_data",
          "data": {
            "image/png": "[encoded data removed]",
            "text/plain": [
              "<Figure size 432x288 with 1 Axes>"
            ]
          },
          "metadata": {
            "tags": [],
            "needs_background": "light"
          }
        }
      ]
    },
    {
      "cell_type": "code",
      "metadata": {
        "id": "3OOZvEjrZFYq",
        "colab_type": "code",
        "colab": {
          "base_uri": "https://localhost:8080/",
          "height": 1000
        },
        "outputId": "24bd2539-ce07-4266-9626-da56d83bbd29"
      },
      "source": [
        "model.predict(X_test_sc)"
      ],
      "execution_count": 38,
      "outputs": [
        {
          "output_type": "execute_result",
          "data": {
            "text/plain": [
              "array([[44.249195],\n",
              "       [44.06186 ],\n",
              "       [45.103725],\n",
              "       [45.538708],\n",
              "       [46.20481 ],\n",
              "       [45.772316],\n",
              "       [46.32873 ],\n",
              "       [46.213737],\n",
              "       [45.958122],\n",
              "       [45.951996],\n",
              "       [45.55479 ],\n",
              "       [45.265804],\n",
              "       [45.408306],\n",
              "       [45.456985],\n",
              "       [45.452393],\n",
              "       [46.025993],\n",
              "       [45.0897  ],\n",
              "       [45.61737 ],\n",
              "       [44.805443],\n",
              "       [43.96183 ],\n",
              "       [44.050457],\n",
              "       [42.7954  ],\n",
              "       [42.80339 ],\n",
              "       [41.815056],\n",
              "       [40.335487],\n",
              "       [40.83839 ],\n",
              "       [41.136497],\n",
              "       [40.692596],\n",
              "       [40.54297 ],\n",
              "       [39.674156],\n",
              "       [39.315956],\n",
              "       [40.170822],\n",
              "       [40.67107 ],\n",
              "       [40.67654 ],\n",
              "       [41.422573],\n",
              "       [41.278755],\n",
              "       [41.50688 ],\n",
              "       [41.486202],\n",
              "       [41.46205 ],\n",
              "       [40.26558 ],\n",
              "       [40.109295],\n",
              "       [40.73326 ],\n",
              "       [40.76216 ],\n",
              "       [41.154053],\n",
              "       [42.619705],\n",
              "       [43.153008],\n",
              "       [42.506092],\n",
              "       [43.132565],\n",
              "       [43.10565 ],\n",
              "       [43.347237],\n",
              "       [44.12535 ],\n",
              "       [44.219597],\n",
              "       [45.19713 ],\n",
              "       [45.650345],\n",
              "       [45.445328],\n",
              "       [43.489227],\n",
              "       [41.889008],\n",
              "       [41.333878],\n",
              "       [42.61862 ],\n",
              "       [42.99176 ],\n",
              "       [42.754517],\n",
              "       [43.366272],\n",
              "       [43.986534],\n",
              "       [45.75676 ],\n",
              "       [46.29267 ],\n",
              "       [45.596542],\n",
              "       [44.982582],\n",
              "       [45.647232],\n",
              "       [46.078514],\n",
              "       [44.39243 ],\n",
              "       [43.7344  ],\n",
              "       [44.32761 ],\n",
              "       [45.179028],\n",
              "       [45.624123],\n",
              "       [45.731438],\n",
              "       [46.754025],\n",
              "       [47.60669 ],\n",
              "       [47.05582 ],\n",
              "       [47.272476],\n",
              "       [47.988087],\n",
              "       [48.42255 ],\n",
              "       [48.649696],\n",
              "       [48.700077],\n",
              "       [49.545425],\n",
              "       [50.176605],\n",
              "       [49.334908],\n",
              "       [48.581303],\n",
              "       [48.580193],\n",
              "       [48.570557],\n",
              "       [48.33274 ],\n",
              "       [48.03162 ],\n",
              "       [48.630543],\n",
              "       [47.483704],\n",
              "       [47.438637],\n",
              "       [48.08094 ],\n",
              "       [47.818653],\n",
              "       [47.811684],\n",
              "       [47.688423],\n",
              "       [48.161377],\n",
              "       [48.608078],\n",
              "       [49.142166],\n",
              "       [49.290535],\n",
              "       [49.932896],\n",
              "       [50.669617],\n",
              "       [51.465736],\n",
              "       [51.32566 ],\n",
              "       [50.514633],\n",
              "       [52.077362],\n",
              "       [52.431774],\n",
              "       [52.598923],\n",
              "       [52.4718  ],\n",
              "       [51.905277],\n",
              "       [51.45439 ],\n",
              "       [51.283356],\n",
              "       [50.934708],\n",
              "       [50.40123 ],\n",
              "       [49.80614 ],\n",
              "       [50.038326],\n",
              "       [49.305668],\n",
              "       [49.490322],\n",
              "       [49.56991 ],\n",
              "       [49.950138],\n",
              "       [49.55427 ],\n",
              "       [49.51303 ],\n",
              "       [49.75438 ],\n",
              "       [49.619457],\n",
              "       [49.122475],\n",
              "       [48.61166 ],\n",
              "       [47.876343],\n",
              "       [47.61196 ],\n",
              "       [47.98202 ],\n",
              "       [47.78968 ],\n",
              "       [47.564034],\n",
              "       [45.647987],\n",
              "       [44.794975],\n",
              "       [45.018425],\n",
              "       [44.76044 ],\n",
              "       [43.4119  ],\n",
              "       [42.211403],\n",
              "       [43.881702],\n",
              "       [44.214172],\n",
              "       [43.518326],\n",
              "       [43.355965],\n",
              "       [43.7635  ],\n",
              "       [44.362568],\n",
              "       [43.23812 ],\n",
              "       [43.189407],\n",
              "       [43.07823 ],\n",
              "       [42.690453],\n",
              "       [44.43125 ],\n",
              "       [45.29404 ],\n",
              "       [45.760487],\n",
              "       [45.342236],\n",
              "       [45.06104 ],\n",
              "       [44.60816 ],\n",
              "       [43.680313],\n",
              "       [44.340088],\n",
              "       [45.300194],\n",
              "       [45.91665 ],\n",
              "       [46.51976 ],\n",
              "       [46.5716  ],\n",
              "       [46.004128],\n",
              "       [46.429253],\n",
              "       [46.64013 ],\n",
              "       [46.75219 ],\n",
              "       [48.921394],\n",
              "       [49.550022],\n",
              "       [49.24389 ],\n",
              "       [49.904457],\n",
              "       [49.59199 ],\n",
              "       [51.258217],\n",
              "       [51.584976],\n",
              "       [51.266838],\n",
              "       [51.375217],\n",
              "       [51.129803],\n",
              "       [50.924385],\n",
              "       [50.960125],\n",
              "       [50.55301 ],\n",
              "       [50.799133],\n",
              "       [50.146664],\n",
              "       [50.717278],\n",
              "       [50.186462],\n",
              "       [48.079994],\n",
              "       [46.968338],\n",
              "       [46.70784 ],\n",
              "       [46.29021 ],\n",
              "       [47.000298],\n",
              "       [46.747536],\n",
              "       [46.506622],\n",
              "       [46.612747],\n",
              "       [45.781403],\n",
              "       [45.49357 ],\n",
              "       [45.104645],\n",
              "       [44.969875],\n",
              "       [44.9348  ],\n",
              "       [44.925148],\n",
              "       [45.992935],\n",
              "       [46.64606 ],\n",
              "       [46.40159 ],\n",
              "       [46.61126 ],\n",
              "       [47.504135],\n",
              "       [47.68047 ],\n",
              "       [47.550064],\n",
              "       [47.48419 ],\n",
              "       [48.109634],\n",
              "       [48.29544 ],\n",
              "       [49.191414],\n",
              "       [48.281662],\n",
              "       [48.680748],\n",
              "       [48.65134 ],\n",
              "       [48.606754],\n",
              "       [49.64656 ],\n",
              "       [49.95707 ],\n",
              "       [50.043083],\n",
              "       [49.526604],\n",
              "       [49.120872],\n",
              "       [49.251884],\n",
              "       [49.95871 ],\n",
              "       [50.36741 ],\n",
              "       [50.324463],\n",
              "       [50.645256],\n",
              "       [51.366257],\n",
              "       [51.315083],\n",
              "       [51.477364],\n",
              "       [51.239586],\n",
              "       [51.230507],\n",
              "       [50.96959 ],\n",
              "       [51.647713],\n",
              "       [51.283676],\n",
              "       [51.398834],\n",
              "       [51.464973],\n",
              "       [51.048004],\n",
              "       [50.951878],\n",
              "       [52.254463],\n",
              "       [54.207336],\n",
              "       [55.65806 ],\n",
              "       [55.436863],\n",
              "       [55.532097],\n",
              "       [55.79678 ],\n",
              "       [55.7324  ],\n",
              "       [55.847065],\n",
              "       [56.033615],\n",
              "       [53.593822],\n",
              "       [52.085983],\n",
              "       [52.021027],\n",
              "       [51.702995],\n",
              "       [51.559826],\n",
              "       [52.836617],\n",
              "       [52.587173],\n",
              "       [51.08293 ],\n",
              "       [49.14962 ]], dtype=float32)"
            ]
          },
          "metadata": {
            "tags": []
          },
          "execution_count": 38
        }
      ]
    },
    {
      "cell_type": "code",
      "metadata": {
        "id": "cZazbwoqZfgU",
        "colab_type": "code",
        "colab": {
          "base_uri": "https://localhost:8080/",
          "height": 282
        },
        "outputId": "9d5f82fc-00f6-4d7d-b0e5-57c1540ae98d"
      },
      "source": [
        "plt.plot(range(len(X_test_sc)),model.predict(X_test_sc).flat)\n",
        "plt.plot(range(len(X_test_sc)),y_test)"
      ],
      "execution_count": 39,
      "outputs": [
        {
          "output_type": "execute_result",
          "data": {
            "text/plain": [
              "[<matplotlib.lines.Line2D at 0x7f1bd7ccd860>]"
            ]
          },
          "metadata": {
            "tags": []
          },
          "execution_count": 39
        },
        {
          "output_type": "display_data",
          "data": {
            "image/png": "[encoded data removed]",
            "text/plain": [
              "<Figure size 432x288 with 1 Axes>"
            ]
          },
          "metadata": {
            "tags": [],
            "needs_background": "light"
          }
        }
      ]
    },
    {
      "cell_type": "code",
      "metadata": {
        "id": "h74LtriKZhhp",
        "colab_type": "code",
        "colab": {
          "base_uri": "https://localhost:8080/",
          "height": 134
        },
        "outputId": "892a5a6c-3c92-4caa-a0ab-0190979e9748"
      },
      "source": [
        "X_test_sc[0].reshape(1,7,1)"
      ],
      "execution_count": 40,
      "outputs": [
        {
          "output_type": "execute_result",
          "data": {
            "text/plain": [
              "array([[[0.83910218],\n",
              "        [0.77719701],\n",
              "        [0.75711333],\n",
              "        [0.75193205],\n",
              "        [0.7682191 ],\n",
              "        [0.86976278],\n",
              "        [0.85612661]]])"
            ]
          },
          "metadata": {
            "tags": []
          },
          "execution_count": 40
        }
      ]
    },
    {
      "cell_type": "code",
      "metadata": {
        "id": "3VolYQoFZmBh",
        "colab_type": "code",
        "colab": {
          "base_uri": "https://localhost:8080/",
          "height": 34
        },
        "outputId": "8c0336e2-01c6-4d53-84a8-c43e928dd6b1"
      },
      "source": [
        "model.predict(X_test_sc[0].reshape(1,7,1))"
      ],
      "execution_count": 41,
      "outputs": [
        {
          "output_type": "execute_result",
          "data": {
            "text/plain": [
              "array([[44.249195]], dtype=float32)"
            ]
          },
          "metadata": {
            "tags": []
          },
          "execution_count": 41
        }
      ]
    },
    {
      "cell_type": "code",
      "metadata": {
        "id": "BhrM6fY-ZpVD",
        "colab_type": "code",
        "colab": {
          "base_uri": "https://localhost:8080/",
          "height": 34
        },
        "outputId": "22a404cf-e6ab-4377-9938-978e262cfbef"
      },
      "source": [
        "y_test[1000]"
      ],
      "execution_count": 42,
      "outputs": [
        {
          "output_type": "execute_result",
          "data": {
            "text/plain": [
              "45.06"
            ]
          },
          "metadata": {
            "tags": []
          },
          "execution_count": 42
        }
      ]
    },
    {
      "cell_type": "code",
      "metadata": {
        "id": "xbK0gEL-ZraI",
        "colab_type": "code",
        "colab": {
          "base_uri": "https://localhost:8080/",
          "height": 252
        },
        "outputId": "0a77d31a-4915-4dcf-e94c-14373e9dfc19"
      },
      "source": [
        "from keras.models import Sequential\n",
        "from keras.layers import Dense,Dropout,LSTM\n",
        "model2 = Sequential()\n",
        "# 256 cels\n",
        "model2.add(LSTM(256,input_shape=(7,1)))\n",
        "model2.add(Dropout(0.3))\n",
        "# single neuron\n",
        "model2.add(Dense(1))\n",
        "model2.summary()"
      ],
      "execution_count": 43,
      "outputs": [
        {
          "output_type": "stream",
          "text": [
            "Model: \"sequential_2\"\n",
            "_________________________________________________________________\n",
            "Layer (type)                 Output Shape              Param #   \n",
            "=================================================================\n",
            "lstm_2 (LSTM)                (None, 256)               264192    \n",
            "_________________________________________________________________\n",
            "dropout_1 (Dropout)          (None, 256)               0         \n",
            "_________________________________________________________________\n",
            "dense_2 (Dense)              (None, 1)                 257       \n",
            "=================================================================\n",
            "Total params: 264,449\n",
            "Trainable params: 264,449\n",
            "Non-trainable params: 0\n",
            "_________________________________________________________________\n"
          ],
          "name": "stdout"
        }
      ]
    },
    {
      "cell_type": "code",
      "metadata": {
        "id": "k7NhUqXPZwOH",
        "colab_type": "code",
        "colab": {}
      },
      "source": [
        "model2.compile(optimizer='adam',loss='mse')"
      ],
      "execution_count": 44,
      "outputs": []
    },
    {
      "cell_type": "code",
      "metadata": {
        "id": "lp7YT_TBZzUO",
        "colab_type": "code",
        "colab": {
          "base_uri": "https://localhost:8080/",
          "height": 1000
        },
        "outputId": "e69f934c-0cc9-4307-aad0-46b75f4954b4"
      },
      "source": [
        "history2 = model2.fit(X_train_sc,y_train,epochs=100,validation_data=(X_test_sc,y_test))"
      ],
      "execution_count": 45,
      "outputs": [
        {
          "output_type": "stream",
          "text": [
            "Train on 1000 samples, validate on 251 samples\n",
            "Epoch 1/100\n",
            "1000/1000 [==============================] - 1s 1ms/step - loss: 1030.1074 - val_loss: 645.2367\n",
            "Epoch 2/100\n",
            "1000/1000 [==============================] - 1s 984us/step - loss: 218.5630 - val_loss: 302.5263\n",
            "Epoch 3/100\n",
            "1000/1000 [==============================] - 1s 989us/step - loss: 124.8719 - val_loss: 197.0228\n",
            "Epoch 4/100\n",
            "1000/1000 [==============================] - 1s 970us/step - loss: 101.2386 - val_loss: 161.6270\n",
            "Epoch 5/100\n",
            "1000/1000 [==============================] - 1s 971us/step - loss: 41.8806 - val_loss: 93.9258\n",
            "Epoch 6/100\n",
            "1000/1000 [==============================] - 1s 958us/step - loss: 24.8304 - val_loss: 70.0133\n",
            "Epoch 7/100\n",
            "1000/1000 [==============================] - 1s 925us/step - loss: 17.5405 - val_loss: 47.0248\n",
            "Epoch 8/100\n",
            "1000/1000 [==============================] - 1s 931us/step - loss: 14.2411 - val_loss: 36.4843\n",
            "Epoch 9/100\n",
            "1000/1000 [==============================] - 1s 942us/step - loss: 11.9788 - val_loss: 26.8320\n",
            "Epoch 10/100\n",
            "1000/1000 [==============================] - 1s 932us/step - loss: 10.8884 - val_loss: 21.5975\n",
            "Epoch 11/100\n",
            "1000/1000 [==============================] - 1s 947us/step - loss: 9.8547 - val_loss: 19.0130\n",
            "Epoch 12/100\n",
            "1000/1000 [==============================] - 1s 971us/step - loss: 8.9328 - val_loss: 16.3202\n",
            "Epoch 13/100\n",
            "1000/1000 [==============================] - 1s 934us/step - loss: 9.0096 - val_loss: 13.4016\n",
            "Epoch 14/100\n",
            "1000/1000 [==============================] - 1s 938us/step - loss: 9.0826 - val_loss: 11.7837\n",
            "Epoch 15/100\n",
            "1000/1000 [==============================] - 1s 940us/step - loss: 8.8411 - val_loss: 13.4347\n",
            "Epoch 16/100\n",
            "1000/1000 [==============================] - 1s 946us/step - loss: 8.6412 - val_loss: 10.0524\n",
            "Epoch 17/100\n",
            "1000/1000 [==============================] - 1s 949us/step - loss: 7.4630 - val_loss: 11.4587\n",
            "Epoch 18/100\n",
            "1000/1000 [==============================] - 1s 953us/step - loss: 7.9257 - val_loss: 8.4974\n",
            "Epoch 19/100\n",
            "1000/1000 [==============================] - 1s 961us/step - loss: 7.9820 - val_loss: 8.2009\n",
            "Epoch 20/100\n",
            "1000/1000 [==============================] - 1s 934us/step - loss: 7.6070 - val_loss: 8.0065\n",
            "Epoch 21/100\n",
            "1000/1000 [==============================] - 1s 958us/step - loss: 7.8075 - val_loss: 8.0665\n",
            "Epoch 22/100\n",
            "1000/1000 [==============================] - 1s 936us/step - loss: 7.6603 - val_loss: 7.6976\n",
            "Epoch 23/100\n",
            "1000/1000 [==============================] - 1s 965us/step - loss: 7.0511 - val_loss: 7.2615\n",
            "Epoch 24/100\n",
            "1000/1000 [==============================] - 1s 941us/step - loss: 7.4985 - val_loss: 7.2310\n",
            "Epoch 25/100\n",
            "1000/1000 [==============================] - 1s 950us/step - loss: 8.2855 - val_loss: 7.3021\n",
            "Epoch 26/100\n",
            "1000/1000 [==============================] - 1s 951us/step - loss: 7.4949 - val_loss: 6.8116\n",
            "Epoch 27/100\n",
            "1000/1000 [==============================] - 1s 960us/step - loss: 7.7025 - val_loss: 6.2391\n",
            "Epoch 28/100\n",
            "1000/1000 [==============================] - 1s 957us/step - loss: 7.5028 - val_loss: 7.9967\n",
            "Epoch 29/100\n",
            "1000/1000 [==============================] - 1s 957us/step - loss: 7.5523 - val_loss: 7.8169\n",
            "Epoch 30/100\n",
            "1000/1000 [==============================] - 1s 927us/step - loss: 7.8522 - val_loss: 6.0004\n",
            "Epoch 31/100\n",
            "1000/1000 [==============================] - 1s 959us/step - loss: 7.0776 - val_loss: 5.7809\n",
            "Epoch 32/100\n",
            "1000/1000 [==============================] - 1s 957us/step - loss: 7.1068 - val_loss: 6.4138\n",
            "Epoch 33/100\n",
            "1000/1000 [==============================] - 1s 982us/step - loss: 6.8257 - val_loss: 6.0218\n",
            "Epoch 34/100\n",
            "1000/1000 [==============================] - 1s 942us/step - loss: 7.5981 - val_loss: 6.7558\n",
            "Epoch 35/100\n",
            "1000/1000 [==============================] - 1s 944us/step - loss: 7.9458 - val_loss: 5.7394\n",
            "Epoch 36/100\n",
            "1000/1000 [==============================] - 1s 963us/step - loss: 7.4605 - val_loss: 6.3284\n",
            "Epoch 37/100\n",
            "1000/1000 [==============================] - 1s 980us/step - loss: 7.3343 - val_loss: 5.7278\n",
            "Epoch 38/100\n",
            "1000/1000 [==============================] - 1s 953us/step - loss: 6.9706 - val_loss: 5.5305\n",
            "Epoch 39/100\n",
            "1000/1000 [==============================] - 1s 935us/step - loss: 6.5804 - val_loss: 5.3899\n",
            "Epoch 40/100\n",
            "1000/1000 [==============================] - 1s 939us/step - loss: 7.2855 - val_loss: 5.6573\n",
            "Epoch 41/100\n",
            "1000/1000 [==============================] - 1s 961us/step - loss: 6.5363 - val_loss: 5.5859\n",
            "Epoch 42/100\n",
            "1000/1000 [==============================] - 1s 947us/step - loss: 6.6112 - val_loss: 6.0274\n",
            "Epoch 43/100\n",
            "1000/1000 [==============================] - 1s 948us/step - loss: 6.8008 - val_loss: 5.7029\n",
            "Epoch 44/100\n",
            "1000/1000 [==============================] - 1s 962us/step - loss: 6.9662 - val_loss: 5.7086\n",
            "Epoch 45/100\n",
            "1000/1000 [==============================] - 1s 996us/step - loss: 6.9011 - val_loss: 5.2142\n",
            "Epoch 46/100\n",
            "1000/1000 [==============================] - 1s 959us/step - loss: 6.4584 - val_loss: 6.9806\n",
            "Epoch 47/100\n",
            "1000/1000 [==============================] - 1s 943us/step - loss: 6.8804 - val_loss: 5.1060\n",
            "Epoch 48/100\n",
            "1000/1000 [==============================] - 1s 962us/step - loss: 6.7099 - val_loss: 4.8554\n",
            "Epoch 49/100\n",
            "1000/1000 [==============================] - 1s 948us/step - loss: 6.8561 - val_loss: 4.9715\n",
            "Epoch 50/100\n",
            "1000/1000 [==============================] - 1s 954us/step - loss: 6.2641 - val_loss: 5.3736\n",
            "Epoch 51/100\n",
            "1000/1000 [==============================] - 1s 965us/step - loss: 6.1959 - val_loss: 6.6095\n",
            "Epoch 52/100\n",
            "1000/1000 [==============================] - 1s 950us/step - loss: 6.4197 - val_loss: 4.8801\n",
            "Epoch 53/100\n",
            "1000/1000 [==============================] - 1s 973us/step - loss: 6.3682 - val_loss: 5.0032\n",
            "Epoch 54/100\n",
            "1000/1000 [==============================] - 1s 945us/step - loss: 6.1549 - val_loss: 4.8214\n",
            "Epoch 55/100\n",
            "1000/1000 [==============================] - 1s 967us/step - loss: 6.6460 - val_loss: 4.5453\n",
            "Epoch 56/100\n",
            "1000/1000 [==============================] - 1s 1ms/step - loss: 5.5814 - val_loss: 4.5079\n",
            "Epoch 57/100\n",
            "1000/1000 [==============================] - 1s 970us/step - loss: 6.0292 - val_loss: 4.5459\n",
            "Epoch 58/100\n",
            "1000/1000 [==============================] - 1s 993us/step - loss: 5.1791 - val_loss: 5.9146\n",
            "Epoch 59/100\n",
            "1000/1000 [==============================] - 1s 967us/step - loss: 5.4812 - val_loss: 5.1603\n",
            "Epoch 60/100\n",
            "1000/1000 [==============================] - 1s 978us/step - loss: 5.6051 - val_loss: 4.3784\n",
            "Epoch 61/100\n",
            "1000/1000 [==============================] - 1s 972us/step - loss: 4.9772 - val_loss: 6.0051\n",
            "Epoch 62/100\n",
            "1000/1000 [==============================] - 1s 998us/step - loss: 5.4696 - val_loss: 4.5194\n",
            "Epoch 63/100\n",
            "1000/1000 [==============================] - 1s 989us/step - loss: 5.5404 - val_loss: 5.4015\n",
            "Epoch 64/100\n",
            "1000/1000 [==============================] - 1s 1ms/step - loss: 5.2935 - val_loss: 4.8716\n",
            "Epoch 65/100\n",
            "1000/1000 [==============================] - 1s 977us/step - loss: 4.8562 - val_loss: 3.8993\n",
            "Epoch 66/100\n",
            "1000/1000 [==============================] - 1s 968us/step - loss: 5.1556 - val_loss: 3.5800\n",
            "Epoch 67/100\n",
            "1000/1000 [==============================] - 1s 983us/step - loss: 4.8172 - val_loss: 3.4673\n",
            "Epoch 68/100\n",
            "1000/1000 [==============================] - 1s 937us/step - loss: 4.7965 - val_loss: 6.1180\n",
            "Epoch 69/100\n",
            "1000/1000 [==============================] - 1s 941us/step - loss: 5.1339 - val_loss: 3.9860\n",
            "Epoch 70/100\n",
            "1000/1000 [==============================] - 1s 956us/step - loss: 4.6679 - val_loss: 4.6327\n",
            "Epoch 71/100\n",
            "1000/1000 [==============================] - 1s 954us/step - loss: 6.0139 - val_loss: 3.1908\n",
            "Epoch 72/100\n",
            "1000/1000 [==============================] - 1s 953us/step - loss: 4.3695 - val_loss: 3.7887\n",
            "Epoch 73/100\n",
            "1000/1000 [==============================] - 1s 960us/step - loss: 4.8921 - val_loss: 3.3906\n",
            "Epoch 74/100\n",
            "1000/1000 [==============================] - 1s 937us/step - loss: 4.6245 - val_loss: 3.0274\n",
            "Epoch 75/100\n",
            "1000/1000 [==============================] - 1s 941us/step - loss: 4.4454 - val_loss: 6.7304\n",
            "Epoch 76/100\n",
            "1000/1000 [==============================] - 1s 933us/step - loss: 5.1526 - val_loss: 2.6613\n",
            "Epoch 77/100\n",
            "1000/1000 [==============================] - 1s 946us/step - loss: 4.5817 - val_loss: 3.1600\n",
            "Epoch 78/100\n",
            "1000/1000 [==============================] - 1s 970us/step - loss: 4.6402 - val_loss: 4.0645\n",
            "Epoch 79/100\n",
            "1000/1000 [==============================] - 1s 929us/step - loss: 4.9095 - val_loss: 3.0205\n",
            "Epoch 80/100\n",
            "1000/1000 [==============================] - 1s 975us/step - loss: 4.7948 - val_loss: 2.7857\n",
            "Epoch 81/100\n",
            "1000/1000 [==============================] - 1s 949us/step - loss: 4.6363 - val_loss: 2.8609\n",
            "Epoch 82/100\n",
            "1000/1000 [==============================] - 1s 968us/step - loss: 4.5376 - val_loss: 2.3013\n",
            "Epoch 83/100\n",
            "1000/1000 [==============================] - 1s 942us/step - loss: 4.6516 - val_loss: 2.2491\n",
            "Epoch 84/100\n",
            "1000/1000 [==============================] - 1s 955us/step - loss: 4.0134 - val_loss: 3.1775\n",
            "Epoch 85/100\n",
            "1000/1000 [==============================] - 1s 950us/step - loss: 5.1847 - val_loss: 3.3527\n",
            "Epoch 86/100\n",
            "1000/1000 [==============================] - 1s 944us/step - loss: 4.6439 - val_loss: 2.4880\n",
            "Epoch 87/100\n",
            "1000/1000 [==============================] - 1s 958us/step - loss: 4.5432 - val_loss: 2.9125\n",
            "Epoch 88/100\n",
            "1000/1000 [==============================] - 1s 994us/step - loss: 4.6309 - val_loss: 2.5164\n",
            "Epoch 89/100\n",
            "1000/1000 [==============================] - 1s 985us/step - loss: 4.2104 - val_loss: 2.4418\n",
            "Epoch 90/100\n",
            "1000/1000 [==============================] - 1s 950us/step - loss: 4.4234 - val_loss: 2.5352\n",
            "Epoch 91/100\n",
            "1000/1000 [==============================] - 1s 974us/step - loss: 4.2407 - val_loss: 2.3516\n",
            "Epoch 92/100\n",
            "1000/1000 [==============================] - 1s 945us/step - loss: 4.2595 - val_loss: 2.3362\n",
            "Epoch 93/100\n",
            "1000/1000 [==============================] - 1s 985us/step - loss: 4.3350 - val_loss: 2.2296\n",
            "Epoch 94/100\n",
            "1000/1000 [==============================] - 1s 948us/step - loss: 3.9930 - val_loss: 4.2928\n",
            "Epoch 95/100\n",
            "1000/1000 [==============================] - 1s 942us/step - loss: 4.3980 - val_loss: 1.9666\n",
            "Epoch 96/100\n",
            "1000/1000 [==============================] - 1s 938us/step - loss: 4.1471 - val_loss: 1.9288\n",
            "Epoch 97/100\n",
            "1000/1000 [==============================] - 1s 943us/step - loss: 4.1480 - val_loss: 2.1218\n",
            "Epoch 98/100\n",
            "1000/1000 [==============================] - 1s 958us/step - loss: 4.1052 - val_loss: 2.2335\n",
            "Epoch 99/100\n",
            "1000/1000 [==============================] - 1s 947us/step - loss: 4.8952 - val_loss: 2.7897\n",
            "Epoch 100/100\n",
            "1000/1000 [==============================] - 1s 971us/step - loss: 4.3935 - val_loss: 1.7979\n"
          ],
          "name": "stdout"
        }
      ]
    },
    {
      "cell_type": "code",
      "metadata": {
        "id": "WeGG3zNJZ1c2",
        "colab_type": "code",
        "colab": {
          "base_uri": "https://localhost:8080/",
          "height": 282
        },
        "outputId": "f1088962-2179-4fc1-983d-b3b49e0afcec"
      },
      "source": [
        "tr_loss = history2.history['loss']\n",
        "val_loss = history2.history['val_loss']\n",
        "ep = list(range(1,101))\n",
        "plt.plot(ep,tr_loss,color='r')\n",
        "plt.plot(ep,val_loss,color='b')"
      ],
      "execution_count": 46,
      "outputs": [
        {
          "output_type": "execute_result",
          "data": {
            "text/plain": [
              "[<matplotlib.lines.Line2D at 0x7f1bd7986d30>]"
            ]
          },
          "metadata": {
            "tags": []
          },
          "execution_count": 46
        },
        {
          "output_type": "display_data",
          "data": {
            "image/png": "[encoded data removed]",
            "text/plain": [
              "<Figure size 432x288 with 1 Axes>"
            ]
          },
          "metadata": {
            "tags": [],
            "needs_background": "light"
          }
        }
      ]
    },
    {
      "cell_type": "markdown",
      "metadata": {
        "id": "z1AhG_LdZ93i",
        "colab_type": "text"
      },
      "source": [
        "### Get the data\n",
        "### what is the target\n",
        "### Take the target and observe downtrend or uptrend\n",
        "### Craete input(features) and ouputs(target)\n",
        "### Train_test_split\n",
        "### Apply scaling if it required\n",
        "### Reshape the inputs\n",
        "### Create a Model\n",
        "### Compile the model with the proper optimizer and loss\n",
        "### Metrics =['mse','mae']\n",
        "### Evaluate the model with test data\n",
        "### compare the results\n",
        "### Check for overfitting and underfitting\n",
        "### If It is an overfitted model apply dropout. or check another model\n",
        "\n",
        "### Check raw data"
      ]
    }
  ]
}