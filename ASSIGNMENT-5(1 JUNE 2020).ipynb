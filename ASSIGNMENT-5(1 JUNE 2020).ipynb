{
 "cells": [
  {
   "cell_type": "markdown",
   "metadata": {},
   "source": [
    "### CSE-221710310031-SOWMYA\n",
    "### ASSIGNMENT-5(1 JUNE 2020)"
   ]
  },
  {
   "cell_type": "code",
   "execution_count": 1,
   "metadata": {},
   "outputs": [
    {
     "name": "stdout",
     "output_type": "stream",
     "text": [
      "watchingweek61+\n",
      "enter yes or no for new passwordyes\n",
      "sayingweek35+\n",
      "enter yes or no for new passwordyes\n",
      "playingchild1>\n",
      "enter yes or no for new passwordyes\n",
      "takingeye4_\n",
      "enter yes or no for new passwordno\n",
      "This is your desired password  takingeye_4\n"
     ]
    }
   ],
   "source": [
    "#Password generator\n",
    "import random\n",
    "import string\n",
    "while True:\n",
    "    s1 = random.choice(string.punctuation)\n",
    "    s2 = str(random.randint(0,100))\n",
    "    verbs = [\"saying\",\"cleaning\",\"dancing\",\"cooking\",\"taking\",\"playing\",\"calling\",\"working\",\"watching\",\"asking\"]\n",
    "    s3 = random.choice(verbs)\n",
    "    noun = [\"child\",\"eye\",\"woman\",\"place\",\"work\",\"week\",\"case\",\"point\",\"government\",\"company\"]\n",
    "    s4 = random.choice(noun)\n",
    "    print(s3+s4+s2+s1)\n",
    "    p1 = input(\"enter yes or no for new password\")\n",
    "    if p1 == \"no\" or p1 == \"NO\":\n",
    "        print(\"This is your desired password \", s3+s4+s1+s2)\n",
    "        break\n",
    "    elif p1 == \"YES\" or p1 == \"yes\":\n",
    "        continue"
   ]
  }
 ],
 "metadata": {
  "kernelspec": {
   "display_name": "Python 3",
   "language": "python",
   "name": "python3"
  },
  "language_info": {
   "codemirror_mode": {
    "name": "ipython",
    "version": 3
   },
   "file_extension": ".py",
   "mimetype": "text/x-python",
   "name": "python",
   "nbconvert_exporter": "python",
   "pygments_lexer": "ipython3",
   "version": "3.7.6"
  }
 },
 "nbformat": 4,
 "nbformat_minor": 4
}
