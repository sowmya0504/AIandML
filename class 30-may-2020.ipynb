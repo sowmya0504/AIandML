{
 "cells": [
  {
   "cell_type": "markdown",
   "metadata": {},
   "source": [
    "documentation: [click here](https://docs.google.com/document/d/1895fCXK8F2701_7JLbBdj2poKwfi-iLxDMsQxAYckZY/edit)"
   ]
  },
  {
   "cell_type": "code",
   "execution_count": 2,
   "metadata": {},
   "outputs": [
    {
     "name": "stdout",
     "output_type": "stream",
     "text": [
      "enter a number21\n",
      "Adam number\n"
     ]
    }
   ],
   "source": [
    "#Adam number\n",
    "n = int(input(\"enter a number\"))#12\n",
    "if int(str(n**2)[::-1]) == int(str(n)[::-1])**2:\n",
    "    print(\"Adam number\")\n",
    "else:\n",
    "    print(\"Not an Adam Number\")\n"
   ]
  },
  {
   "cell_type": "code",
   "execution_count": 3,
   "metadata": {},
   "outputs": [
    {
     "name": "stdout",
     "output_type": "stream",
     "text": [
      "enter a number21\n",
      "Adam number\n"
     ]
    }
   ],
   "source": [
    "#Conditional operator :[on True] if [condition] else [On False]\n",
    "\n",
    "n = int(input(\"enter a number\"))#12\n",
    "print(\"Adam number\") if int(str(n**2)[::-1]) == int(str(n)[::-1])**2 else print(\"Not an Adam Number\")\n"
   ]
  },
  {
   "cell_type": "code",
   "execution_count": 9,
   "metadata": {},
   "outputs": [
    {
     "name": "stdout",
     "output_type": "stream",
     "text": [
      "enter a number21\n",
      "the given number is adam\n"
     ]
    }
   ],
   "source": [
    "def adam(n):\n",
    "    if int(str(n**2)[::-1]) == int(str(n)[::-1])**2:\n",
    "        return True\n",
    "    else:\n",
    "        return False\n",
    "value = int(input(\"enter a number\"))\n",
    "if adam(value):\n",
    "    print(\"the given number is adam\")\n",
    "else:\n",
    "    print(\"the given number is not adam\")\n",
    "\n",
    "    "
   ]
  },
  {
   "cell_type": "code",
   "execution_count": 12,
   "metadata": {},
   "outputs": [
    {
     "data": {
      "text/plain": [
       "120"
      ]
     },
     "execution_count": 12,
     "metadata": {},
     "output_type": "execute_result"
    }
   ],
   "source": [
    "#recursive functions:\n",
    "#factorial of number\n",
    "def factorial(n):\n",
    "    if n == 0 or n == 1:\n",
    "        return 1\n",
    "    else:\n",
    "        return n * factorial(n-1)\n",
    "factorial(5)"
   ]
  },
  {
   "cell_type": "code",
   "execution_count": 14,
   "metadata": {},
   "outputs": [
    {
     "name": "stdout",
     "output_type": "stream",
     "text": [
      "1\n",
      "10\n",
      "1 2 3 4 5 6 7 8 9 10 "
     ]
    }
   ],
   "source": [
    "#lower bound and upper bound \n",
    "def display(lb,ub):\n",
    "    if lb > ub:\n",
    "        return\n",
    "    else:\n",
    "        print(lb,end=\" \")\n",
    "        display(lb+1,ub)\n",
    "lb = int(input())#1\n",
    "ub = int(input())#10\n",
    "display(lb,ub)#1 2 3 4 5 ...... 10"
   ]
  },
  {
   "cell_type": "code",
   "execution_count": 7,
   "metadata": {},
   "outputs": [
    {
     "name": "stdout",
     "output_type": "stream",
     "text": [
      "4181\n",
      "0.0020058155059814453\n"
     ]
    }
   ],
   "source": [
    "#fibonacci series: 0,1,1,2,3,5,8,13,21,34......\n",
    "import time \n",
    "def recur_fibo(n):\n",
    "    if n == 1:\n",
    "        return 0\n",
    "    elif n == 2:\n",
    "        return 1\n",
    "    else:\n",
    "        return recur_fibo(n-1)+recur_fibo(n-2)\n",
    "prev = time.time()\n",
    "print(recur_fibo(20))\n",
    "print(time.time()-prev)\n",
    "    "
   ]
  },
  {
   "cell_type": "code",
   "execution_count": 3,
   "metadata": {},
   "outputs": [
    {
     "name": "stdout",
     "output_type": "stream",
     "text": [
      "34\n",
      "[0, 1, 1, 2, 3, 5, 8, 13, 21, 34]\n"
     ]
    }
   ],
   "source": [
    "fibs = [0,1]\n",
    "def fibonacci(n):\n",
    "    if n <= len( fibs):\n",
    "        return fibs[n-1]\n",
    "    else:\n",
    "        fibs.append(fibs[len(fibs)-1]+fibs[len(fibs)-2])\n",
    "        return fibonacci(n)\n",
    "print(fibonacci(10))\n",
    "print(fibs)"
   ]
  },
  {
   "cell_type": "code",
   "execution_count": 8,
   "metadata": {},
   "outputs": [
    {
     "name": "stdout",
     "output_type": "stream",
     "text": [
      "4181\n",
      "0.001995086669921875\n"
     ]
    }
   ],
   "source": [
    "import time\n",
    "fibs = [0,1]\n",
    "def fibonacci(n):\n",
    "    if n <= len( fibs):\n",
    "        return fibs[n-1]\n",
    "    else:\n",
    "        fibs.append(fibs[len(fibs)-1]+fibs[len(fibs)-2])\n",
    "        return fibonacci(n)\n",
    "prev = time.time()\n",
    "print(recur_fibo(20))\n",
    "print(time.time()-prev)\n",
    "    "
   ]
  },
  {
   "cell_type": "markdown",
   "metadata": {},
   "source": [
    "### List: [],indexed,ordered,allows duplicate,mutable\n",
    "operators : +,*,[],[:],in,not in\n",
    "Built-in functions: len(),min(),max(),list()\n",
    "Built-in methods:"
   ]
  },
  {
   "cell_type": "code",
   "execution_count": 25,
   "metadata": {},
   "outputs": [
    {
     "name": "stdout",
     "output_type": "stream",
     "text": [
      "lenght of list: 6\n",
      "['p', 'y', 't', 'h', 'o', 'n']\n",
      "t\n",
      "6\n"
     ]
    }
   ],
   "source": [
    "#Built-in functions: len(),min(),max(),list()\n",
    "list1= [12,34,45,6,\"str\",True]\n",
    "list2=[34,45,6.6,45,[12,23,34,45,[23,34,45,6]]]\n",
    "string = \"python\"\n",
    "#len() returns no. of elements of your list\n",
    "print(\"lenght of list:\",len(list1))#6\n",
    "#print(min(list2))\n",
    "#print(max(list2))\n",
    "print(list(string))\n",
    "print(list1[4][1]) #to get t from str from list1\n",
    "print(list2[4][4][3])"
   ]
  },
  {
   "cell_type": "markdown",
   "metadata": {},
   "source": [
    "### Built-in methods:\n",
    "#### Adding an element:\n",
    "1. append()"
   ]
  },
  {
   "cell_type": "code",
   "execution_count": 20,
   "metadata": {},
   "outputs": [
    {
     "name": "stdout",
     "output_type": "stream",
     "text": [
      "[1, 2, 3, 4, 5, 6]\n",
      "[1, 2, 3, 4, 5, 6, 7]\n"
     ]
    }
   ],
   "source": [
    "list1=[1,2,3,4,5]\n",
    "list1.append(6)\n",
    "print(list1)\n",
    "list1.append(7)\n",
    "print(list1)"
   ]
  },
  {
   "cell_type": "code",
   "execution_count": 21,
   "metadata": {},
   "outputs": [
    {
     "name": "stdout",
     "output_type": "stream",
     "text": [
      "[1, 2, 100, 3, 4, 5, 6, 7]\n"
     ]
    }
   ],
   "source": [
    "#insert()-->inserts an element at the given position\n",
    "list1.insert(2,100)\n",
    "print(list1)"
   ]
  },
  {
   "cell_type": "code",
   "execution_count": 26,
   "metadata": {},
   "outputs": [
    {
     "name": "stdout",
     "output_type": "stream",
     "text": [
      "[12, 34, 45, 6, 'str', True, 8, 9, 10]\n"
     ]
    }
   ],
   "source": [
    "#extend : inserting multiple values\n",
    "list1.extend([8,9,10])\n",
    "print(list1)"
   ]
  },
  {
   "cell_type": "code",
   "execution_count": 27,
   "metadata": {},
   "outputs": [
    {
     "name": "stdout",
     "output_type": "stream",
     "text": [
      "[12, 34, 45, 6, 'str', True, 8, 9]\n",
      "[12, 34, 6, 'str', True, 8, 9]\n"
     ]
    }
   ],
   "source": [
    "#removing elements\n",
    "list1.pop() #default index -1 i.e. pop(-1)\n",
    "print(list1)\n",
    "list1.pop(2)\n",
    "print(list1)"
   ]
  },
  {
   "cell_type": "code",
   "execution_count": 28,
   "metadata": {},
   "outputs": [
    {
     "name": "stdout",
     "output_type": "stream",
     "text": [
      "[12, 34, 6, 'str', True, 8]\n"
     ]
    }
   ],
   "source": [
    "#remove\n",
    "list1.remove(9)\n",
    "print(list1)"
   ]
  },
  {
   "cell_type": "code",
   "execution_count": 29,
   "metadata": {},
   "outputs": [
    {
     "data": {
      "text/plain": [
       "[]"
      ]
     },
     "execution_count": 29,
     "metadata": {},
     "output_type": "execute_result"
    }
   ],
   "source": [
    "#clear\n",
    "list1.clear()\n",
    "list1"
   ]
  },
  {
   "cell_type": "code",
   "execution_count": 30,
   "metadata": {},
   "outputs": [
    {
     "name": "stdout",
     "output_type": "stream",
     "text": [
      "1\n",
      "2\n"
     ]
    }
   ],
   "source": [
    "list1 = [23,34,56,76,68,79,80,78,76]\n",
    "print(list1.index(34))#returns index of a element\n",
    "print(list1.count(76))#frequency of the element"
   ]
  },
  {
   "cell_type": "code",
   "execution_count": 35,
   "metadata": {},
   "outputs": [
    {
     "name": "stdout",
     "output_type": "stream",
     "text": [
      "[23, 34, 56, 68, 76, 76, 78, 79, 80]\n"
     ]
    }
   ],
   "source": [
    "list1.sort()\n",
    "print(list1)"
   ]
  },
  {
   "cell_type": "code",
   "execution_count": 33,
   "metadata": {},
   "outputs": [
    {
     "name": "stdout",
     "output_type": "stream",
     "text": [
      "[80, 79, 78, 76, 76, 68, 56, 34, 23]\n"
     ]
    }
   ],
   "source": [
    "list1.sort(reverse=True) #descending order\n",
    "print(list1)"
   ]
  },
  {
   "cell_type": "code",
   "execution_count": 37,
   "metadata": {},
   "outputs": [
    {
     "name": "stdout",
     "output_type": "stream",
     "text": [
      "[23, 34, 56, 68, 76, 76, 78, 79, 80]\n"
     ]
    }
   ],
   "source": [
    "list1.sort(reverse=False) #ascending order\n",
    "print(list1)"
   ]
  },
  {
   "cell_type": "code",
   "execution_count": 38,
   "metadata": {},
   "outputs": [
    {
     "name": "stdout",
     "output_type": "stream",
     "text": [
      "[80, 79, 78, 76, 76, 68, 56, 34, 23]\n"
     ]
    }
   ],
   "source": [
    "#reverse\n",
    "list1.reverse()\n",
    "print(list1)"
   ]
  },
  {
   "cell_type": "code",
   "execution_count": 43,
   "metadata": {},
   "outputs": [
    {
     "name": "stdout",
     "output_type": "stream",
     "text": [
      "[1, 2, 3, 4, 5]\n",
      "[1, 2, 3, 4, 5]\n",
      "[1, 2, 3, 4, 5, 6, 7] [1, 2, 3, 4, 5, 6, 7] [1, 2, 3, 4, 5]\n"
     ]
    }
   ],
   "source": [
    "list1 = [1,2,3,4,5]\n",
    "list2 = []\n",
    "list3 = []\n",
    "list2 = list1#deep copy\n",
    "print(list2)\n",
    "list3 = list1.copy()#shallow copy\n",
    "print(list3)\n",
    "list1.append(6)\n",
    "list1.append(7)\n",
    "print(list1,list2,list3) #observe diff between copy and = in output"
   ]
  },
  {
   "cell_type": "markdown",
   "metadata": {},
   "source": [
    "### File Handling\n",
    "1. create\n",
    "2. add some text\n",
    "3. save\n",
    "4. read\n",
    "5. appending\n",
    "6. rename\n",
    "7. remove"
   ]
  },
  {
   "cell_type": "markdown",
   "metadata": {},
   "source": [
    "## Modes\n",
    "1. write(w)\n",
    "2. read(r)\n",
    "3. append(a)\n",
    "4. new file creation(x)"
   ]
  },
  {
   "cell_type": "markdown",
   "metadata": {},
   "source": [
    "1. open()\n",
    "2. close()"
   ]
  },
  {
   "cell_type": "code",
   "execution_count": 45,
   "metadata": {},
   "outputs": [],
   "source": [
    "f = open(\"sample.txt\",\"w\")  #writing\n",
    "f.write(\"hello everyone!!!\")\n",
    "f.close()"
   ]
  },
  {
   "cell_type": "code",
   "execution_count": 47,
   "metadata": {},
   "outputs": [
    {
     "name": "stdout",
     "output_type": "stream",
     "text": [
      "hello everyone!!!\n"
     ]
    }
   ],
   "source": [
    "f = open(\"sample.txt\",\"r\") #reading\n",
    "data=f.read()\n",
    "print(data)\n",
    "f.close()"
   ]
  },
  {
   "cell_type": "code",
   "execution_count": 53,
   "metadata": {},
   "outputs": [],
   "source": [
    "f = open(\"sample.txt\",\"a\")\n",
    "s = '''\\nhow are doing all ??\n",
    "stay home!!!'''\n",
    "f.write(s)\n",
    "f.close()"
   ]
  },
  {
   "cell_type": "code",
   "execution_count": 54,
   "metadata": {},
   "outputs": [
    {
     "name": "stdout",
     "output_type": "stream",
     "text": [
      "hello everyone!!!how are doing all ??\n",
      "stay home!!!\n",
      "how are doing all ??\n",
      "stay home!!!\n",
      "how are doing all ??\n",
      "stay home!!!\n"
     ]
    }
   ],
   "source": [
    "f = open(\"sample.txt\",\"r\") #reading\n",
    "data=f.read()\n",
    "print(data)\n",
    "f.close()"
   ]
  },
  {
   "cell_type": "code",
   "execution_count": null,
   "metadata": {},
   "outputs": [],
   "source": []
  }
 ],
 "metadata": {
  "kernelspec": {
   "display_name": "Python 3",
   "language": "python",
   "name": "python3"
  },
  "language_info": {
   "codemirror_mode": {
    "name": "ipython",
    "version": 3
   },
   "file_extension": ".py",
   "mimetype": "text/x-python",
   "name": "python",
   "nbconvert_exporter": "python",
   "pygments_lexer": "ipython3",
   "version": "3.7.6"
  }
 },
 "nbformat": 4,
 "nbformat_minor": 4
}
