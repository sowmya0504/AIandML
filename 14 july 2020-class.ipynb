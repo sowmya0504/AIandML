{
 "cells": [
  {
   "cell_type": "markdown",
   "metadata": {},
   "source": [
    "[Copy of weapon_detection_BL.ipynb](https://colab.research.google.com/drive/1zL3rhc_sJKbYzXli7ih7xeabvHVTg4hv?usp=sharing)"
   ]
  },
  {
   "cell_type": "markdown",
   "metadata": {},
   "source": [
    "[Clustering](https://docs.google.com/document/d/166s8FpsL3Bje053aW7Mfr1z_TZe6ZUZ3Gy2AjyqYFtU/edit?usp=sharing)"
   ]
  },
  {
   "cell_type": "markdown",
   "metadata": {},
   "source": [
    "[Non-Hierarchical Clustering](https://docs.google.com/document/d/1Xp1-gHHFoEyLIqj_e9n_b4jUINjejhfvQi1hNvBphI8/edit?usp=sharing)"
   ]
  },
  {
   "cell_type": "markdown",
   "metadata": {},
   "source": [
    "[sklearn.cluster.kmeans](https://scikit-learn.org/stable/modules/generated/sklearn.cluster.KMeans.html#)"
   ]
  }
 ],
 "metadata": {
  "kernelspec": {
   "display_name": "Python 3",
   "language": "python",
   "name": "python3"
  },
  "language_info": {
   "codemirror_mode": {
    "name": "ipython",
    "version": 3
   },
   "file_extension": ".py",
   "mimetype": "text/x-python",
   "name": "python",
   "nbconvert_exporter": "python",
   "pygments_lexer": "ipython3",
   "version": "3.7.6"
  }
 },
 "nbformat": 4,
 "nbformat_minor": 4
}
