{
 "cells": [
  {
   "cell_type": "markdown",
   "metadata": {},
   "source": [
    "## CSE-221710310031-SOWMYA\n",
    "### Assignment 4 (29 may,30 may - 2020)"
   ]
  },
  {
   "cell_type": "code",
   "execution_count": 1,
   "metadata": {},
   "outputs": [],
   "source": [
    "#creating and adding txt to the file\n",
    "f = open(\"data.txt\",\"w\")\n",
    "#adding content to the file\n",
    "f.write(\"Hello Everyone!!!\")\n",
    "f.close()"
   ]
  },
  {
   "cell_type": "code",
   "execution_count": 2,
   "metadata": {},
   "outputs": [],
   "source": [
    "#appending txt to fike\n",
    "f = open(\"data.txt\",\"a\")\n",
    "s = '''\\nHow are doing all??\n",
    "stay home!!!\n",
    "stay safe\n",
    "python\n",
    "aiml'''\n",
    "#appending content to the file\n",
    "f.write(s)\n",
    "f.close()"
   ]
  },
  {
   "cell_type": "code",
   "execution_count": 3,
   "metadata": {},
   "outputs": [
    {
     "name": "stdout",
     "output_type": "stream",
     "text": [
      "Enter file name: data.txt\n",
      "Number of lines:\n",
      "6\n",
      "Number of words:\n",
      "12\n",
      "Number of letters:\n",
      "61\n"
     ]
    }
   ],
   "source": [
    "#counting the no of words,no.of letters,no.of lines available in your file\n",
    "fname = input(\"Enter file name: \")\n",
    " \n",
    "num_words = 0\n",
    "num_lines =0\n",
    "num_letter=0\n",
    "with open(fname, 'r') as f:\n",
    "    for line in f:\n",
    "        words = line.split()\n",
    "        num_words += len(words)\n",
    "with open(fname, 'r') as f:\n",
    "    for line in f:\n",
    "        num_lines += 1\n",
    "with open(fname,'r') as f:\n",
    "    for line in f:\n",
    "        words=line.split()\n",
    "        for i in words:\n",
    "            \n",
    "                num_letter+=len(i)\n",
    "print(\"Number of lines:\")\n",
    "print(num_lines)\n",
    "print(\"Number of words:\")\n",
    "print(num_words)\n",
    "print(\"Number of letters:\")\n",
    "print(num_letter)"
   ]
  },
  {
   "cell_type": "code",
   "execution_count": 4,
   "metadata": {},
   "outputs": [],
   "source": [
    "#copying data of one file to another\n",
    "with open(\"data.txt\") as f:\n",
    "    with open(\"out.txt\", \"w\") as f1:\n",
    "        for line in f:\n",
    "            f1.write(line)"
   ]
  },
  {
   "cell_type": "code",
   "execution_count": 5,
   "metadata": {},
   "outputs": [
    {
     "name": "stdout",
     "output_type": "stream",
     "text": [
      "Hello Everyone!!!\n",
      "How are doing all??\n",
      "stay home!!!\n",
      "stay safe\n",
      "python\n",
      "aiml\n"
     ]
    }
   ],
   "source": [
    "#to read the copied data\n",
    "f = open(\"out.txt\",\"r\")\n",
    "data = f.read()\n",
    "print(data)\n",
    "f.close()"
   ]
  },
  {
   "cell_type": "code",
   "execution_count": 6,
   "metadata": {},
   "outputs": [
    {
     "name": "stdout",
     "output_type": "stream",
     "text": [
      "pancakes\n",
      "pants\n",
      "park\n",
      "peaches.\n"
     ]
    }
   ],
   "source": [
    "# display words starting with 'p'\n",
    "St= '''\\nYour pancakes look really good.\n",
    "There is a sale on pants today. \n",
    "We go to the park once a week.\n",
    "Georgia grows the most delicious peaches.''' \n",
    "\n",
    "for i in St.split():\n",
    "    if i.startswith(\"p\"):\n",
    "        print(i)"
   ]
  },
  {
   "cell_type": "code",
   "execution_count": 7,
   "metadata": {},
   "outputs": [],
   "source": [
    "#renaming files\n",
    "import os\n",
    "os.rename(\"data.txt\",\"python.txt\")"
   ]
  },
  {
   "cell_type": "code",
   "execution_count": 8,
   "metadata": {},
   "outputs": [
    {
     "name": "stdout",
     "output_type": "stream",
     "text": [
      "Hello Everyone!!!\n",
      "How are doing all??\n",
      "stay home!!!\n",
      "stay safe\n",
      "python\n",
      "aiml\n"
     ]
    }
   ],
   "source": [
    "#reading the renamed file\n",
    "f = open(\"python.txt\",\"r\")\n",
    "data = f.read()\n",
    "print(data)\n",
    "f.close()"
   ]
  },
  {
   "cell_type": "code",
   "execution_count": 9,
   "metadata": {},
   "outputs": [],
   "source": [
    "#removing the file\n",
    "import os\n",
    "os.remove(\"python.txt\")"
   ]
  },
  {
   "cell_type": "code",
   "execution_count": 10,
   "metadata": {},
   "outputs": [
    {
     "ename": "FileNotFoundError",
     "evalue": "[Errno 2] No such file or directory: 'python.txt'",
     "output_type": "error",
     "traceback": [
      "\u001b[1;31m---------------------------------------------------------------------------\u001b[0m",
      "\u001b[1;31mFileNotFoundError\u001b[0m                         Traceback (most recent call last)",
      "\u001b[1;32m<ipython-input-10-4c9911800084>\u001b[0m in \u001b[0;36m<module>\u001b[1;34m\u001b[0m\n\u001b[0;32m      1\u001b[0m \u001b[1;31m#should give error as no file exsits\u001b[0m\u001b[1;33m\u001b[0m\u001b[1;33m\u001b[0m\u001b[1;33m\u001b[0m\u001b[0m\n\u001b[0;32m      2\u001b[0m \u001b[1;33m\u001b[0m\u001b[0m\n\u001b[1;32m----> 3\u001b[1;33m \u001b[0mf\u001b[0m \u001b[1;33m=\u001b[0m \u001b[0mopen\u001b[0m\u001b[1;33m(\u001b[0m\u001b[1;34m\"python.txt\"\u001b[0m\u001b[1;33m,\u001b[0m\u001b[1;34m\"r\"\u001b[0m\u001b[1;33m)\u001b[0m\u001b[1;33m\u001b[0m\u001b[1;33m\u001b[0m\u001b[0m\n\u001b[0m",
      "\u001b[1;31mFileNotFoundError\u001b[0m: [Errno 2] No such file or directory: 'python.txt'"
     ]
    }
   ],
   "source": [
    "#chcecking whether the file is removed or exists\n",
    "#should give error as no file exsits\n",
    "\n",
    "f = open(\"python.txt\",\"r\")"
   ]
  },
  {
   "cell_type": "code",
   "execution_count": 11,
   "metadata": {},
   "outputs": [
    {
     "name": "stdout",
     "output_type": "stream",
     "text": [
      "enter no. of elements in list:5\n",
      "1\n",
      "2\n",
      "3\n",
      "4\n",
      "5\n",
      "the list is: [1, 2, 3, 4, 5]\n",
      "sum is: 15\n"
     ]
    }
   ],
   "source": [
    "#sum of list of elements\n",
    "x=[]\n",
    "n=int(input(\"enter no. of elements in list:\"))\n",
    "for i in range(0,n):\n",
    "    element=int(input())\n",
    "    x.append(element)\n",
    "print(\"the list is:\",x)\n",
    "s=0\n",
    "for i in range(0,len(x)):\n",
    "    s=s+x[i]\n",
    "print(\"sum is:\",s)"
   ]
  },
  {
   "cell_type": "code",
   "execution_count": 22,
   "metadata": {},
   "outputs": [
    {
     "ename": "AttributeError",
     "evalue": "module 'os' has no attribute 'mknod'",
     "output_type": "error",
     "traceback": [
      "\u001b[1;31m---------------------------------------------------------------------------\u001b[0m",
      "\u001b[1;31mAttributeError\u001b[0m                            Traceback (most recent call last)",
      "\u001b[1;32m<ipython-input-22-ebcec92f1da7>\u001b[0m in \u001b[0;36m<module>\u001b[1;34m\u001b[0m\n\u001b[0;32m      1\u001b[0m \u001b[1;32mimport\u001b[0m \u001b[0mos\u001b[0m\u001b[1;33m\u001b[0m\u001b[1;33m\u001b[0m\u001b[0m\n\u001b[0;32m      2\u001b[0m \u001b[0mos\u001b[0m\u001b[1;33m.\u001b[0m\u001b[0mmkdir\u001b[0m\u001b[1;33m(\u001b[0m\u001b[1;34m'folder1'\u001b[0m\u001b[1;33m)\u001b[0m\u001b[1;33m\u001b[0m\u001b[1;33m\u001b[0m\u001b[0m\n\u001b[1;32m----> 3\u001b[1;33m \u001b[0mos\u001b[0m\u001b[1;33m.\u001b[0m\u001b[0mmknod\u001b[0m\u001b[1;33m(\u001b[0m\u001b[1;34m'sowmya.txt'\u001b[0m\u001b[1;33m)\u001b[0m\u001b[1;33m\u001b[0m\u001b[1;33m\u001b[0m\u001b[0m\n\u001b[0m",
      "\u001b[1;31mAttributeError\u001b[0m: module 'os' has no attribute 'mknod'"
     ]
    }
   ],
   "source": [
    "import os\n",
    "os.mkdir('folder1')\n",
    "os.mknod('sowmya.txt')"
   ]
  },
  {
   "cell_type": "code",
   "execution_count": 1,
   "metadata": {},
   "outputs": [
    {
     "name": "stdout",
     "output_type": "stream",
     "text": [
      "enter no. of elements in list:5\n",
      "1\n",
      "2\n",
      "3\n",
      "4\n",
      "5\n",
      "the list is: [1, 2, 3, 4, 5]\n",
      "the even numbers in list are:\n",
      "2\n",
      "4\n"
     ]
    }
   ],
   "source": [
    "#print only even numbers from the list\n",
    "x=[]\n",
    "n=int(input(\"enter no. of elements in list:\"))\n",
    "for i in range(0,n):\n",
    "    element=int(input())\n",
    "    x.append(element)\n",
    "print(\"the list is:\",x)\n",
    "print(\"the even numbers in list are:\")\n",
    "for i in range(0,len(x)):\n",
    "    if(x[i]%2==0):\n",
    "        print(x[i])"
   ]
  },
  {
   "cell_type": "code",
   "execution_count": 11,
   "metadata": {},
   "outputs": [
    {
     "name": "stdout",
     "output_type": "stream",
     "text": [
      "enter no. of elements in list:5\n",
      "7\n",
      "1\n",
      "3\n",
      "8\n",
      "4\n",
      "the list is: [7, 1, 3, 8, 4]\n",
      "smallest number in list is  1 at index  1\n"
     ]
    }
   ],
   "source": [
    "#write a python program to get the smallest number from a list and display index of smallest element in list\n",
    "x=[]\n",
    "n=int(input(\"enter no. of elements in list:\"))\n",
    "for i in range(0,n):\n",
    "    element=int(input())\n",
    "    x.append(element)\n",
    "print(\"the list is:\",x)\n",
    "m=0\n",
    "t=x[0]\n",
    "for i in range(0,len(x)):\n",
    "    if(x[i]<t):\n",
    "        t=x[i]\n",
    "        m=i\n",
    "print(\"smallest number in list is \",t,\"at index \",m)"
   ]
  },
  {
   "cell_type": "code",
   "execution_count": 18,
   "metadata": {},
   "outputs": [
    {
     "name": "stdout",
     "output_type": "stream",
     "text": [
      "enter no. of elements in list:5\n",
      "str\n",
      "stry\n",
      "string\n",
      "lol\n",
      "eofl\n",
      "the list is: ['str', 'stry', 'string', 'lol', 'eofl']\n",
      "string\n"
     ]
    }
   ],
   "source": [
    "#create list of strings and find largest string\n",
    "x=[]\n",
    "n=int(input(\"enter no. of elements in list:\"))\n",
    "for i in range(0,n):\n",
    "    e=input()\n",
    "    x.append(e)\n",
    "print(\"the list is:\",x)\n",
    "m=-1\n",
    "for i in x:\n",
    "    if len(i)>m:\n",
    "        m=len(i)\n",
    "        res=i\n",
    "print(res)"
   ]
  },
  {
   "cell_type": "code",
   "execution_count": 9,
   "metadata": {},
   "outputs": [
    {
     "name": "stdout",
     "output_type": "stream",
     "text": [
      "5\n",
      "it is prime\n",
      "enter no. Of elements in list:5\n",
      "16\n",
      "17\n",
      "2\n",
      "19\n",
      "6\n",
      "the list is: [16, 17, 2, 19, 6]\n",
      "17\n",
      "2\n",
      "19\n"
     ]
    }
   ],
   "source": [
    "#function to check whether the number is prime or not and find list of prime numbers in the given list\n",
    "def prime(n):\n",
    "    c=0\n",
    "    for i in range(1,n+1):\n",
    "        if(n%i==0):\n",
    "            c+=1\n",
    "    if(c==2):\n",
    "        print(\"it is prime\")\n",
    "    else:\n",
    "        print(\"it is not a prime\")\n",
    "x=int(input())\n",
    "prime(x)\n",
    "b=int(input(\"enter no. Of elements in list:\"))\n",
    "li=[]\n",
    "for i in range(0,b):\n",
    "        ele=int(input())\n",
    "        li.append(ele)\n",
    "print(\"the list is:\",li)\n",
    "for i in range(0,len(li)):\n",
    "        v=0\n",
    "        for j in range(1,li[i]+1):\n",
    "             if(li[i]%j==0):\n",
    "                   v+=1\n",
    "        if(v==2):\n",
    "            print(li[i])"
   ]
  },
  {
   "cell_type": "code",
   "execution_count": 8,
   "metadata": {},
   "outputs": [
    {
     "name": "stdout",
     "output_type": "stream",
     "text": [
      "10\n",
      "binary: 1010\n",
      "octal: 12\n"
     ]
    }
   ],
   "source": [
    "#function for converting a number to binary or octal\n",
    "def binary(n):\n",
    "    x=bin(n)\n",
    "    x=x[2:]\n",
    "    print(\"binary:\",x)\n",
    "def octal(n):\n",
    "    y=oct(n)\n",
    "    y=y[2:]\n",
    "    print(\"octal:\",y)\n",
    "n=int(input())\n",
    "binary(n)\n",
    "octal(n)"
   ]
  },
  {
   "cell_type": "code",
   "execution_count": null,
   "metadata": {},
   "outputs": [],
   "source": []
  }
 ],
 "metadata": {
  "kernelspec": {
   "display_name": "Python 3",
   "language": "python",
   "name": "python3"
  },
  "language_info": {
   "codemirror_mode": {
    "name": "ipython",
    "version": 3
   },
   "file_extension": ".py",
   "mimetype": "text/x-python",
   "name": "python",
   "nbconvert_exporter": "python",
   "pygments_lexer": "ipython3",
   "version": "3.7.6"
  }
 },
 "nbformat": 4,
 "nbformat_minor": 4
}
